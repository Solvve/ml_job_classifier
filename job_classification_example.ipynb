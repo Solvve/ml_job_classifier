{
 "cells": [
  {
   "cell_type": "code",
   "execution_count": 307,
   "metadata": {
    "ExecuteTime": {
     "end_time": "2020-09-14T10:45:20.276212Z",
     "start_time": "2020-09-14T10:45:20.269812Z"
    }
   },
   "outputs": [],
   "source": [
    "import spacy\n",
    "from gensim.parsing.preprocessing import strip_tags\n",
    "\n",
    "import sklearn\n",
    "from sklearn.model_selection import train_test_split\n",
    "from sklearn.feature_extraction.text import TfidfVectorizer\n",
    "\n",
    "from sklearn.naive_bayes import MultinomialNB\n",
    "from sklearn.tree import DecisionTreeClassifier\n",
    "from sklearn.linear_model import LogisticRegression\n",
    "from sklearn.svm import LinearSVC\n",
    "\n",
    "from sklearn.pipeline import Pipeline\n",
    "from sklearn.model_selection import GridSearchCV\n",
    "from sklearn.model_selection import StratifiedShuffleSplit\n",
    "from sklearn.metrics import accuracy_score, classification_report\n",
    "\n",
    "import joblib\n",
    "import pandas as pd\n",
    "import numpy as np\n",
    "import re\n",
    "\n",
    "import matplotlib.pyplot as plt\n",
    "import matplotlib.pylab as pylab\n",
    "params = {'figure.figsize': (15, 10),\n",
    "         'axes.labelsize': 'x-large',\n",
    "         'axes.titlesize':'x-large'}\n",
    "\n",
    "pylab.rcParams.update(params)\n",
    "\n",
    "import warnings\n",
    "warnings.filterwarnings(\"ignore\")\n",
    "\n",
    "import tqdm"
   ]
  },
  {
   "cell_type": "markdown",
   "metadata": {},
   "source": [
    "# Utils"
   ]
  },
  {
   "cell_type": "code",
   "execution_count": 306,
   "metadata": {
    "ExecuteTime": {
     "end_time": "2020-09-14T10:01:12.847344Z",
     "start_time": "2020-09-14T10:01:12.838213Z"
    }
   },
   "outputs": [],
   "source": [
    "class SpacyTokenizer():\n",
    "    '''\n",
    "    Custom tokenizer\n",
    "    '''\n",
    "    def __init__(self, lang='en'):\n",
    "        self.lang = lang\n",
    "        self.nlp = spacy.load(lang)\n",
    "        self.spacy_tokenizer = self.nlp.Defaults.create_tokenizer(self.nlp)\n",
    "        self.stop_words = self.nlp.Defaults.stop_words\n",
    "        \n",
    "    def tokenizer(self, input_text: str):\n",
    "        '''\n",
    "        Preprocess and split text into tokens.\n",
    "        \n",
    "        Parameters:\n",
    "        \n",
    "        input_text: str\n",
    "            Input text.\n",
    "            \n",
    "        Returns:\n",
    "            np.ndarray: list of tokens\n",
    "        '''\n",
    "        text = strip_tags(input_text.lower())\n",
    "        text = re.sub(r\"[^A-Za-z]\", \" \", text)\n",
    "\n",
    "        spacy_tokens = self.spacy_tokenizer(text)\n",
    "        tokens = [token.lemma_.strip() for token in spacy_tokens \n",
    "                  if (len(token.lemma_.strip()) > 1) and not token.lemma_.strip() in self.stop_words]\n",
    "\n",
    "        return tokens  \n",
    "    \n",
    "def get_top_n_words(corpus: np.ndarray, n: int=5, ngram_range: tuple=(1,3)):\n",
    "    '''\n",
    "    Get top common n-grams in corpus.\n",
    "    \n",
    "    Parameters:\n",
    "    corpus: np.ndarray\n",
    "        Array of texts.\n",
    "    n: int (default: 5)\n",
    "        Number of top n-grams to return.\n",
    "    ngram_range: tuple (default: (1,3))\n",
    "        Range of n-grams.\n",
    "        \n",
    "    Returns:\n",
    "        np.ndarray: list of top common n-grams.\n",
    "        \n",
    "    '''\n",
    "    \n",
    "    tf_idf_vec = TfidfVectorizer(ngram_range=ngram_range, max_features=2000, tokenizer=SpacyTokenizer().tokenizer)\n",
    "    tf_idf_vec.fit(corpus)\n",
    "\n",
    "    bag_of_words = tf_idf_vec.transform(corpus)\n",
    "\n",
    "    sum_words = bag_of_words.sum(axis=0) \n",
    "    words_freq = [(word, sum_words[0, idx]) for word, idx in     \n",
    "                  tf_idf_vec.vocabulary_.items()]\n",
    "    words_freq = sorted(words_freq, key = lambda x: x[1], reverse=True)\n",
    "    \n",
    "    return words_freq[:n]\n",
    "\n",
    "def tune_pipeline(pipeline: sklearn.pipeline, parameters: np.ndarray, X: pd.Series, y: pd.Series, n_splits: int=2):\n",
    "    '''\n",
    "    Find the best parameters for pipeline.\n",
    "    \n",
    "    Parameters:\n",
    "    pipeline: sklearn.pipeline\n",
    "        Pipeline for tunning.\n",
    "    parameters: np.ndarray\n",
    "        List of parameters are used for tunning.\n",
    "    X: pd.Series\n",
    "        Training vector.\n",
    "    y: pd.Series\n",
    "        Target vector relative to X.\n",
    "    n_splits: int (default: 2)\n",
    "        Number of re-shuffling and splitting iterations.\n",
    "    \n",
    "    Returns:\n",
    "        sklearn.pipeline: tunned pipeline.\n",
    "    '''\n",
    "    grid_search = GridSearchCV(pipeline, parameters, \n",
    "        cv=StratifiedShuffleSplit(n_splits=2, test_size=0.2, random_state=42),\n",
    "        n_jobs=2, verbose=10)\n",
    "    \n",
    "    grid_search.fit(X, y)\n",
    "    \n",
    "    return grid_search.best_estimator_"
   ]
  },
  {
   "cell_type": "markdown",
   "metadata": {},
   "source": [
    "# Read data"
   ]
  },
  {
   "cell_type": "code",
   "execution_count": 2,
   "metadata": {
    "ExecuteTime": {
     "end_time": "2020-09-10T13:35:18.710691Z",
     "start_time": "2020-09-10T13:35:18.091322Z"
    }
   },
   "outputs": [
    {
     "name": "stdout",
     "output_type": "stream",
     "text": [
      "Dataset size: (72292, 4)\n"
     ]
    }
   ],
   "source": [
    "dataset_df = pd.read_csv('./dataset/kaggle_top30.csv')\n",
    "print(f'Dataset size: {dataset_df.shape}')"
   ]
  },
  {
   "cell_type": "code",
   "execution_count": 4,
   "metadata": {
    "ExecuteTime": {
     "end_time": "2020-09-10T13:35:38.477845Z",
     "start_time": "2020-09-10T13:35:38.465969Z"
    }
   },
   "outputs": [
    {
     "data": {
      "text/html": [
       "<div>\n",
       "<style scoped>\n",
       "    .dataframe tbody tr th:only-of-type {\n",
       "        vertical-align: middle;\n",
       "    }\n",
       "\n",
       "    .dataframe tbody tr th {\n",
       "        vertical-align: top;\n",
       "    }\n",
       "\n",
       "    .dataframe thead th {\n",
       "        text-align: right;\n",
       "    }\n",
       "</style>\n",
       "<table border=\"1\" class=\"dataframe\">\n",
       "  <thead>\n",
       "    <tr style=\"text-align: right;\">\n",
       "      <th></th>\n",
       "      <th>Unnamed: 0</th>\n",
       "      <th>Unnamed: 0.1</th>\n",
       "      <th>Query</th>\n",
       "      <th>Description</th>\n",
       "    </tr>\n",
       "  </thead>\n",
       "  <tbody>\n",
       "    <tr>\n",
       "      <th>0</th>\n",
       "      <td>10</td>\n",
       "      <td>10</td>\n",
       "      <td>Administrative Assistant</td>\n",
       "      <td>This Administrative Assistant position is resp...</td>\n",
       "    </tr>\n",
       "    <tr>\n",
       "      <th>1</th>\n",
       "      <td>35</td>\n",
       "      <td>35</td>\n",
       "      <td>Administrative Assistant</td>\n",
       "      <td>ADMINISTRATIVE ASSISTANT Part Time The West Or...</td>\n",
       "    </tr>\n",
       "    <tr>\n",
       "      <th>2</th>\n",
       "      <td>140</td>\n",
       "      <td>140</td>\n",
       "      <td>Administrative Assistant</td>\n",
       "      <td>Administrative Assistant -  In Bus 26yrs Fashi...</td>\n",
       "    </tr>\n",
       "    <tr>\n",
       "      <th>3</th>\n",
       "      <td>214</td>\n",
       "      <td>214</td>\n",
       "      <td>Sales Representative</td>\n",
       "      <td>Are you ready for something new? Are you tired...</td>\n",
       "    </tr>\n",
       "    <tr>\n",
       "      <th>4</th>\n",
       "      <td>350</td>\n",
       "      <td>350</td>\n",
       "      <td>Customer Service Representative</td>\n",
       "      <td>Superior Staff Resources is currently seeking ...</td>\n",
       "    </tr>\n",
       "  </tbody>\n",
       "</table>\n",
       "</div>"
      ],
      "text/plain": [
       "   Unnamed: 0  Unnamed: 0.1                            Query  \\\n",
       "0          10            10         Administrative Assistant   \n",
       "1          35            35         Administrative Assistant   \n",
       "2         140           140         Administrative Assistant   \n",
       "3         214           214             Sales Representative   \n",
       "4         350           350  Customer Service Representative   \n",
       "\n",
       "                                         Description  \n",
       "0  This Administrative Assistant position is resp...  \n",
       "1  ADMINISTRATIVE ASSISTANT Part Time The West Or...  \n",
       "2  Administrative Assistant -  In Bus 26yrs Fashi...  \n",
       "3  Are you ready for something new? Are you tired...  \n",
       "4  Superior Staff Resources is currently seeking ...  "
      ]
     },
     "execution_count": 4,
     "metadata": {},
     "output_type": "execute_result"
    }
   ],
   "source": [
    "dataset_df[:5]"
   ]
  },
  {
   "cell_type": "markdown",
   "metadata": {},
   "source": [
    "# EDA"
   ]
  },
  {
   "cell_type": "code",
   "execution_count": 249,
   "metadata": {
    "ExecuteTime": {
     "end_time": "2020-09-14T07:52:33.373795Z",
     "start_time": "2020-09-14T07:52:33.336332Z"
    }
   },
   "outputs": [
    {
     "data": {
      "text/plain": [
       "Unnamed: 0      72292\n",
       "Unnamed: 0.1    72292\n",
       "Query           72292\n",
       "Description     72292\n",
       "dtype: int64"
      ]
     },
     "execution_count": 249,
     "metadata": {},
     "output_type": "execute_result"
    }
   ],
   "source": [
    "dataset_df.count()"
   ]
  },
  {
   "cell_type": "code",
   "execution_count": 272,
   "metadata": {
    "ExecuteTime": {
     "end_time": "2020-09-14T08:24:24.596525Z",
     "start_time": "2020-09-14T08:24:24.378795Z"
    }
   },
   "outputs": [
    {
     "data": {
      "image/png": "[encoded data removed]",
      "text/plain": [
       "<Figure size 1080x720 with 1 Axes>"
      ]
     },
     "metadata": {
      "needs_background": "light"
     },
     "output_type": "display_data"
    }
   ],
   "source": [
    "dataset_df['Query'].value_counts().plot(kind='bar')\n",
    "plt.title('Job descriptions per job category')\n",
    "plt.show()"
   ]
  },
  {
   "cell_type": "code",
   "execution_count": 5,
   "metadata": {
    "ExecuteTime": {
     "end_time": "2020-09-10T13:35:40.664868Z",
     "start_time": "2020-09-10T13:35:40.654720Z"
    }
   },
   "outputs": [
    {
     "data": {
      "text/plain": [
       "Administrative Assistant                                      4395\n",
       "Customer Service Representative                               4200\n",
       "Own Your Own Franchise!                                       3701\n",
       "Sales Representative                                          3556\n",
       "Mobile Tool Sales / Franchise Distributor                     3275\n",
       "Retail Wireless Sales Consultant                              3194\n",
       "Sales / Franchise                                             3120\n",
       "Project Manager                                               2845\n",
       "Staff Accountant                                              2834\n",
       "Retail Sales Associate                                        2769\n",
       "Business Analyst                                              2420\n",
       "Sales / Customer Service – Part or Full time – Summer Work    2419\n",
       "Sales Representative / Account Manager /  Customer Service    2412\n",
       "Senior Accountant                                             2216\n",
       "Jani-King Franchise Business Opportunity                      2196\n",
       "Benefits Consultant                                           2049\n",
       "Store Manager                                                 2021\n",
       "Account Representative                                        1977\n",
       "Account Executive                                             1876\n",
       "Maintenance Technician                                        1834\n",
       "Customer Service - Sales Representative - Part Time Work      1823\n",
       "Java Developer                                                1796\n",
       "Financial Analyst                                             1754\n",
       "Inside Sales Representative                                   1740\n",
       "Cashier                                                       1717\n",
       "Sales Management Trainee                                      1708\n",
       "Restaurant Manager                                            1679\n",
       "Executive Assistant                                           1616\n",
       "Receptionist                                                  1575\n",
       "Physical Therapist                                            1575\n",
       "Name: Query, dtype: int64"
      ]
     },
     "execution_count": 5,
     "metadata": {},
     "output_type": "execute_result"
    }
   ],
   "source": [
    "dataset_df['Query'].value_counts()"
   ]
  },
  {
   "cell_type": "code",
   "execution_count": 150,
   "metadata": {
    "ExecuteTime": {
     "end_time": "2020-09-10T16:23:42.111523Z",
     "start_time": "2020-09-10T16:18:57.548179Z"
    }
   },
   "outputs": [
    {
     "name": "stderr",
     "output_type": "stream",
     "text": [
      "100%|██████████| 30/30 [04:44<00:00,  9.49s/it]\n"
     ]
    }
   ],
   "source": [
    "word_freq_dict = {}\n",
    "for query in tqdm.tqdm(dataset_df['Query'].unique()):\n",
    "    word_freq_dict[query] = get_top_n_words(dataset_df[dataset_df['Query']==query]['Description'], n=10, ngram_range=(1,4))"
   ]
  },
  {
   "cell_type": "code",
   "execution_count": 151,
   "metadata": {
    "ExecuteTime": {
     "end_time": "2020-09-10T16:24:39.971936Z",
     "start_time": "2020-09-10T16:24:39.964692Z"
    },
    "scrolled": false
   },
   "outputs": [
    {
     "name": "stdout",
     "output_type": "stream",
     "text": [
      "\n",
      "===\n",
      "Administrative Assistant\n",
      "\n",
      "administrative                      266.91\n",
      "assistant                           206.03\n",
      "office                              196.27\n",
      "administrative assistant            189.15\n",
      "work                                158.23\n",
      "support                             153.19\n",
      "skill                               149.77\n",
      "position                            143.71\n",
      "experience                          143.18\n",
      "service                             141.68\n",
      "    \n",
      "\n",
      "===\n",
      "Sales Representative\n",
      "\n",
      "sale                                468.84\n",
      "customer                            242.38\n",
      "representative                      209.59\n",
      "service                             200.72\n",
      "avon                                186.32\n",
      "sale representative                 184.95\n",
      "opportunity                         183.49\n",
      "business                            175.10\n",
      "sell                                154.34\n",
      "product                             153.43\n",
      "    \n",
      "\n",
      "===\n",
      "Customer Service Representative\n",
      "\n",
      "customer                            551.93\n",
      "service                             391.19\n",
      "customer service                    271.01\n",
      "work                                188.54\n",
      "representative                      187.22\n",
      "service representative              177.47\n",
      "order                               172.50\n",
      "company                             168.93\n",
      "customer service representative     158.68\n",
      "opportunity                         144.48\n",
      "    \n",
      "\n",
      "===\n",
      "Java Developer\n",
      "\n",
      "experience                          136.07\n",
      "development                         112.22\n",
      "java                                108.33\n",
      "application                         99.34\n",
      "software                            88.75\n",
      "work                                86.07\n",
      "technology                          82.05\n",
      "developer                           81.54\n",
      "design                              81.26\n",
      "system                              80.23\n",
      "    \n",
      "\n",
      "===\n",
      "Financial Analyst\n",
      "\n",
      "financial                           157.00\n",
      "report                              97.27\n",
      "analysis                            91.33\n",
      "analyst                             87.54\n",
      "financial analyst                   77.08\n",
      "account                             70.77\n",
      "experience                          65.91\n",
      "business                            64.63\n",
      "budget                              60.57\n",
      "management                          58.90\n",
      "    \n",
      "\n",
      "===\n",
      "Project Manager\n",
      "\n",
      "project                             481.72\n",
      "management                          142.56\n",
      "manager                             135.39\n",
      "experience                          125.02\n",
      "team                                121.66\n",
      "work                                119.39\n",
      "plan                                115.53\n",
      "project manager                     114.62\n",
      "manage                              110.54\n",
      "business                            100.08\n",
      "    \n",
      "\n",
      "===\n",
      "Executive Assistant\n",
      "\n",
      "executive                           112.39\n",
      "assistant                           76.96\n",
      "support                             69.78\n",
      "executive assistant                 67.24\n",
      "administrative                      62.01\n",
      "experience                          58.21\n",
      "include                             57.19\n",
      "work                                57.18\n",
      "office                              55.06\n",
      "skill                               52.79\n",
      "    \n",
      "\n",
      "===\n",
      "Maintenance Technician\n",
      "\n",
      "maintenance                         146.63\n",
      "equipment                           105.40\n",
      "repair                              90.78\n",
      "work                                87.25\n",
      "technician                          72.99\n",
      "experience                          72.02\n",
      "perform                             66.36\n",
      "maintenance technician              65.37\n",
      "electrical                          63.77\n",
      "include                             58.36\n",
      "    \n",
      "\n",
      "===\n",
      "Physical Therapist\n",
      "\n",
      "patient                             128.38\n",
      "physical                            102.27\n",
      "therapy                             101.76\n",
      "therapist                           91.89\n",
      "care                                91.65\n",
      "physical therapist                  69.41\n",
      "time                                67.58\n",
      "work                                64.73\n",
      "health                              61.41\n",
      "service                             60.01\n",
      "    \n",
      "\n",
      "===\n",
      "Store Manager\n",
      "\n",
      "store                               266.44\n",
      "customer                            156.41\n",
      "manager                             121.39\n",
      "sale                                120.47\n",
      "service                             111.94\n",
      "company                             94.66\n",
      "work                                93.24\n",
      "associate                           85.51\n",
      "store manager                       81.79\n",
      "team                                79.72\n",
      "    \n",
      "\n",
      "===\n",
      "Staff Accountant\n",
      "\n",
      "account                             231.18\n",
      "accountant                          168.49\n",
      "staff                               159.13\n",
      "staff accountant                    117.52\n",
      "experience                          114.25\n",
      "financial                           111.75\n",
      "report                              107.36\n",
      "reconciliation                      93.62\n",
      "company                             93.39\n",
      "prepare                             93.08\n",
      "    \n",
      "\n",
      "===\n",
      "Inside Sales Representative\n",
      "\n",
      "sale                                170.90\n",
      "customer                            165.63\n",
      "inside                              96.21\n",
      "service                             90.39\n",
      "inside sale                         80.10\n",
      "representative                      78.23\n",
      "sale representative                 76.99\n",
      "company                             76.07\n",
      "opportunity                         74.66\n",
      "product                             71.44\n",
      "    \n",
      "\n",
      "===\n",
      "Account Executive\n",
      "\n",
      "sale                                212.95\n",
      "business                            121.81\n",
      "customer                            102.71\n",
      "account                             102.60\n",
      "product                             94.94\n",
      "client                              93.39\n",
      "service                             85.32\n",
      "executive                           75.62\n",
      "market                              74.29\n",
      "company                             71.51\n",
      "    \n",
      "\n",
      "===\n",
      "Receptionist\n",
      "\n",
      "receptionist                        93.41\n",
      "office                              67.19\n",
      "phone                               52.62\n",
      "duty                                51.16\n",
      "position                            50.95\n",
      "work                                50.01\n",
      "company                             49.02\n",
      "service                             48.84\n",
      "visitor                             47.26\n",
      "answer                              47.21\n",
      "    \n",
      "\n",
      "===\n",
      "Senior Accountant\n",
      "\n",
      "account                             185.78\n",
      "accountant                          123.38\n",
      "financial                           112.01\n",
      "senior                              108.38\n",
      "report                              99.64\n",
      "experience                          94.36\n",
      "senior accountant                   84.82\n",
      "company                             77.26\n",
      "year                                73.65\n",
      "prepare                             73.55\n",
      "    \n",
      "\n",
      "===\n",
      "Business Analyst\n",
      "\n",
      "business                            244.66\n",
      "requirement                         139.47\n",
      "project                             127.16\n",
      "experience                          118.47\n",
      "work                                113.32\n",
      "system                              108.21\n",
      "process                             108.01\n",
      "analyst                             99.96\n",
      "datum                               90.98\n",
      "client                              89.27\n",
      "    \n",
      "\n",
      "===\n",
      "Restaurant Manager\n",
      "\n",
      "restaurant                          159.79\n",
      "manager                             124.37\n",
      "service                             79.12\n",
      "team                                75.82\n",
      "food                                73.57\n",
      "experience                          72.79\n",
      "plan                                65.25\n",
      "guest                               65.04\n",
      "management                          63.06\n",
      "train                               62.95\n",
      "    \n",
      "\n",
      "===\n",
      "Account Representative\n",
      "\n",
      "aflac                               411.30\n",
      "sale                                341.56\n",
      "career                              286.65\n",
      "need                                226.68\n",
      "work                                225.90\n",
      "team                                174.71\n",
      "program                             173.47\n",
      "position                            173.18\n",
      "company                             171.27\n",
      "provide                             168.85\n",
      "    \n",
      "\n",
      "===\n",
      "Retail Sales Associate\n",
      "\n",
      "customer                            692.78\n",
      "sale                                405.77\n",
      "team                                347.60\n",
      "retail                              270.46\n",
      "mobile                              244.58\n",
      "store                               239.67\n",
      "associate                           224.54\n",
      "retail sale associate               222.93\n",
      "retail sale                         222.45\n",
      "sale associate                      221.54\n",
      "    \n",
      "\n",
      "===\n",
      "Sales Representative / Account Manager /  Customer Service\n",
      "\n",
      "sale                                682.39\n",
      "service                             454.92\n",
      "business                            454.92\n",
      "central                             379.10\n",
      "payment                             379.10\n",
      "customer                            379.10\n",
      "central payment                     379.10\n",
      "market                              303.28\n",
      "medium                              303.28\n",
      "outside                             227.46\n",
      "    \n",
      "\n",
      "===\n",
      "Retail Wireless Sales Consultant\n",
      "\n",
      "sale                                622.57\n",
      "wireless                            622.57\n",
      "gowireless                          618.24\n",
      "product                             414.91\n",
      "service                             414.91\n",
      "experience                          413.50\n",
      "opportunity                         346.68\n",
      "time                                346.65\n",
      "management                          346.12\n",
      "retail                              344.92\n",
      "    \n",
      "\n",
      "===\n",
      "Sales Management Trainee\n",
      "\n",
      "business                            365.28\n",
      "management                          262.47\n",
      "sale                                217.09\n",
      "skill                               211.12\n",
      "day                                 170.16\n",
      "train                               169.88\n",
      "year                                169.60\n",
      "promotion                           168.64\n",
      "service                             164.36\n",
      "customer                            162.04\n",
      "    \n",
      "\n",
      "===\n",
      "Jani-King Franchise Business Opportunity\n",
      "\n",
      "manager                             649.88\n",
      "franchise                           306.13\n",
      "service                             249.75\n",
      "business                            246.08\n",
      "time                                244.88\n",
      "sale                                240.07\n",
      "driver                              187.31\n",
      "operation                           184.15\n",
      "commercial                          183.09\n",
      "clean                               183.09\n",
      "    \n",
      "\n",
      "===\n",
      "Own Your Own Franchise!\n",
      "\n",
      "tax                                 892.81\n",
      "liberty                             765.27\n",
      "market                              510.18\n",
      "support                             510.18\n",
      "system                              382.63\n",
      "preparation                         382.63\n",
      "ongoing                             382.63\n",
      "learn                               382.63\n",
      "liberty tax                         382.63\n",
      "tax preparation                     382.63\n",
      "    \n",
      "\n",
      "===\n",
      "Cashier\n",
      "\n",
      "usa                                 393.40\n",
      "job                                 340.91\n",
      "murphy                              248.27\n",
      "murphy usa                          248.27\n",
      "career                              238.28\n",
      "work                                230.95\n",
      "nmurphy                             198.62\n",
      "customer                            191.55\n",
      "provide                             184.27\n",
      "nmurphy usa                         148.96\n",
      "    \n",
      "\n",
      "===\n",
      "Sales / Franchise\n",
      "\n",
      "franchise                           1032.24\n",
      "business                            886.05\n",
      "snap                                446.66\n",
      "tool                                446.66\n",
      "ryou                                301.29\n",
      "control                             301.29\n",
      "sale                                301.29\n",
      "snap tool                           297.77\n",
      "tool franchise                      297.77\n",
      "opportunity                         296.83\n",
      "    \n",
      "\n",
      "===\n",
      "Customer Service - Sales Representative - Part Time Work\n",
      "\n",
      "time                                339.25\n",
      "grow                                254.44\n",
      "look                                254.44\n",
      "need                                254.44\n",
      "opportunity                         254.44\n",
      "start                               169.63\n",
      "team                                169.63\n",
      "people                              169.63\n",
      "income                              169.63\n",
      "rwe                                 169.63\n",
      "    \n",
      "\n",
      "===\n",
      "Mobile Tool Sales / Franchise Distributor\n",
      "\n",
      "sale                                993.60\n",
      "tool                                662.40\n",
      "matco                               552.00\n",
      "customer                            552.00\n",
      "business                            441.60\n",
      "equipment                           441.60\n",
      "tool equipment                      441.60\n",
      "outside                             331.20\n",
      "need                                331.20\n",
      "use                                 331.20\n",
      "    \n",
      "\n",
      "===\n",
      "Benefits Consultant\n",
      "\n",
      "aflac                               489.22\n",
      "sale                                419.40\n",
      "career                              349.33\n",
      "need                                279.13\n",
      "work                                279.00\n",
      "team                                210.34\n",
      "program                             209.73\n",
      "company                             209.63\n",
      "provide                             209.49\n",
      "position                            209.20\n",
      "    \n",
      "\n",
      "===\n",
      "Sales / Customer Service – Part or Full time – Summer Work\n",
      "\n",
      "time                                541.99\n",
      "opportunity                         433.59\n",
      "start                               325.19\n",
      "grow                                325.19\n",
      "people                              325.19\n",
      "look                                325.19\n",
      "summer                              325.19\n",
      "team                                216.80\n",
      "work                                216.80\n",
      "need                                216.80\n",
      "    \n"
     ]
    }
   ],
   "source": [
    "for query in word_freq_dict:\n",
    "    stat_string = \"\\n\".join([f\"{word_freq[0]:35} {word_freq[1]:.2f}\" for word_freq in word_freq_dict[query]])\n",
    "    print(f'''\n",
    "===\n",
    "{query}\n",
    "\n",
    "{stat_string}\n",
    "    ''')"
   ]
  },
  {
   "cell_type": "markdown",
   "metadata": {},
   "source": [
    "# Preprocessing"
   ]
  },
  {
   "cell_type": "markdown",
   "metadata": {},
   "source": [
    "Raw data"
   ]
  },
  {
   "cell_type": "code",
   "execution_count": 295,
   "metadata": {
    "ExecuteTime": {
     "end_time": "2020-09-14T09:18:26.748246Z",
     "start_time": "2020-09-14T09:18:26.742630Z"
    }
   },
   "outputs": [
    {
     "data": {
      "text/plain": [
       "'This Administrative Assistant position is responsible for performing a variety of clerical and administrative support functions in the areas of communications, data entry and retrieval, typing, filing, copying, and coordination of related administrative activities. \\\\r\\\\n\\\\r\\\\nJOB REQUIREMENTS:\\\\r\\\\nAttention to detail\\\\r\\\\nAbility to work in a fast paced environment\\\\r\\\\nInvoicing\\\\r\\\\nProficient in Word, Excel and Outlook\\\\r\\\\nOther Administrative responsibilities as needed.\\\\r\\\\n\\\\r\\\\nQUALIFICATIONS:\\\\r\\\\nHigh School Diploma\\\\r\\\\nAdministrative Assistant Experience\\\\r\\\\n1-2 Years work experience\\\\r\\\\nWorking knowledge of all basic office machines (fax, copier, 10key, etc.)\\\\r\\\\nStrong verbal and written communication skills\\\\r\\\\nStrong work ethic.'"
      ]
     },
     "execution_count": 295,
     "metadata": {},
     "output_type": "execute_result"
    }
   ],
   "source": [
    "dataset_df['Description'][0]"
   ]
  },
  {
   "cell_type": "markdown",
   "metadata": {},
   "source": [
    "Remove tags and stop words"
   ]
  },
  {
   "cell_type": "code",
   "execution_count": 296,
   "metadata": {
    "ExecuteTime": {
     "end_time": "2020-09-14T09:18:29.503231Z",
     "start_time": "2020-09-14T09:18:29.079463Z"
    }
   },
   "outputs": [
    {
     "data": {
      "text/plain": [
       "['administrative',\n",
       " 'assistant',\n",
       " 'position',\n",
       " 'responsible',\n",
       " 'perform',\n",
       " 'variety',\n",
       " 'clerical',\n",
       " 'administrative',\n",
       " 'support',\n",
       " 'function',\n",
       " 'area',\n",
       " 'communication',\n",
       " 'datum',\n",
       " 'entry',\n",
       " 'retrieval',\n",
       " 'type',\n",
       " 'file',\n",
       " 'copy',\n",
       " 'coordination',\n",
       " 'relate',\n",
       " 'administrative',\n",
       " 'activity',\n",
       " 'njob',\n",
       " 'requirement',\n",
       " 'nattention',\n",
       " 'detail',\n",
       " 'nability',\n",
       " 'work',\n",
       " 'fast',\n",
       " 'pace',\n",
       " 'environment',\n",
       " 'ninvoicing',\n",
       " 'nproficient',\n",
       " 'word',\n",
       " 'excel',\n",
       " 'outlook',\n",
       " 'nother',\n",
       " 'administrative',\n",
       " 'responsibility',\n",
       " 'need',\n",
       " 'nqualifications',\n",
       " 'nhigh',\n",
       " 'school',\n",
       " 'diploma',\n",
       " 'nadministrative',\n",
       " 'assistant',\n",
       " 'experience',\n",
       " 'year',\n",
       " 'work',\n",
       " 'experience',\n",
       " 'nworking',\n",
       " 'knowledge',\n",
       " 'basic',\n",
       " 'office',\n",
       " 'machine',\n",
       " 'fax',\n",
       " 'copier',\n",
       " 'key',\n",
       " 'etc',\n",
       " 'nstrong',\n",
       " 'verbal',\n",
       " 'write',\n",
       " 'communication',\n",
       " 'skill',\n",
       " 'nstrong',\n",
       " 'work',\n",
       " 'ethic']"
      ]
     },
     "execution_count": 296,
     "metadata": {},
     "output_type": "execute_result"
    }
   ],
   "source": [
    "SpacyTokenizer().tokenizer(dataset_df['Description'][0])"
   ]
  },
  {
   "cell_type": "markdown",
   "metadata": {},
   "source": [
    "# Classifier"
   ]
  },
  {
   "cell_type": "code",
   "execution_count": null,
   "metadata": {},
   "outputs": [],
   "source": [
    "def split_train_test(dataset_df, y, test_size=0.2):\n",
    "    # remove types occur only ones\n",
    "    temp_df = dataset_df[y.isin(y.value_counts()[y.value_counts()>1].index)]\n",
    "    return train_test_split(temp_df, stratify=y, test_size=test_size, random_state=42)"
   ]
  },
  {
   "cell_type": "code",
   "execution_count": 273,
   "metadata": {
    "ExecuteTime": {
     "end_time": "2020-09-14T08:25:08.347653Z",
     "start_time": "2020-09-14T08:25:08.007088Z"
    }
   },
   "outputs": [
    {
     "data": {
      "image/png": "[encoded data removed]",
      "text/plain": [
       "<Figure size 1080x720 with 1 Axes>"
      ]
     },
     "metadata": {
      "needs_background": "light"
     },
     "output_type": "display_data"
    }
   ],
   "source": [
    "train, test = split_train_test(dataset_df, dataset_df['Query'], test_size=0.2)\n",
    "split_df = pd.concat([train['Query'].value_counts(), test['Query'].value_counts()], axis=1)\n",
    "split_df.columns = ['train', 'test']\n",
    "\n",
    "split_df.plot(kind='bar', stacked=True)\n",
    "plt.title('Job descriptions per job category')\n",
    "plt.show()"
   ]
  },
  {
   "cell_type": "code",
   "execution_count": 180,
   "metadata": {
    "ExecuteTime": {
     "end_time": "2020-09-10T16:57:46.216708Z",
     "start_time": "2020-09-10T16:57:46.207465Z"
    }
   },
   "outputs": [
    {
     "name": "stdout",
     "output_type": "stream",
     "text": [
      "train/test: 57833/14459\n"
     ]
    },
    {
     "data": {
      "text/html": [
       "<div>\n",
       "<style scoped>\n",
       "    .dataframe tbody tr th:only-of-type {\n",
       "        vertical-align: middle;\n",
       "    }\n",
       "\n",
       "    .dataframe tbody tr th {\n",
       "        vertical-align: top;\n",
       "    }\n",
       "\n",
       "    .dataframe thead th {\n",
       "        text-align: right;\n",
       "    }\n",
       "</style>\n",
       "<table border=\"1\" class=\"dataframe\">\n",
       "  <thead>\n",
       "    <tr style=\"text-align: right;\">\n",
       "      <th></th>\n",
       "      <th>train</th>\n",
       "      <th>test</th>\n",
       "    </tr>\n",
       "  </thead>\n",
       "  <tbody>\n",
       "    <tr>\n",
       "      <th>Administrative Assistant</th>\n",
       "      <td>3516</td>\n",
       "      <td>879</td>\n",
       "    </tr>\n",
       "    <tr>\n",
       "      <th>Customer Service Representative</th>\n",
       "      <td>3360</td>\n",
       "      <td>840</td>\n",
       "    </tr>\n",
       "    <tr>\n",
       "      <th>Own Your Own Franchise!</th>\n",
       "      <td>2961</td>\n",
       "      <td>740</td>\n",
       "    </tr>\n",
       "    <tr>\n",
       "      <th>Sales Representative</th>\n",
       "      <td>2845</td>\n",
       "      <td>711</td>\n",
       "    </tr>\n",
       "    <tr>\n",
       "      <th>Mobile Tool Sales / Franchise Distributor</th>\n",
       "      <td>2620</td>\n",
       "      <td>655</td>\n",
       "    </tr>\n",
       "    <tr>\n",
       "      <th>Retail Wireless Sales Consultant</th>\n",
       "      <td>2555</td>\n",
       "      <td>639</td>\n",
       "    </tr>\n",
       "    <tr>\n",
       "      <th>Sales / Franchise</th>\n",
       "      <td>2496</td>\n",
       "      <td>624</td>\n",
       "    </tr>\n",
       "    <tr>\n",
       "      <th>Project Manager</th>\n",
       "      <td>2276</td>\n",
       "      <td>569</td>\n",
       "    </tr>\n",
       "    <tr>\n",
       "      <th>Staff Accountant</th>\n",
       "      <td>2267</td>\n",
       "      <td>567</td>\n",
       "    </tr>\n",
       "    <tr>\n",
       "      <th>Retail Sales Associate</th>\n",
       "      <td>2215</td>\n",
       "      <td>554</td>\n",
       "    </tr>\n",
       "    <tr>\n",
       "      <th>Business Analyst</th>\n",
       "      <td>1936</td>\n",
       "      <td>484</td>\n",
       "    </tr>\n",
       "    <tr>\n",
       "      <th>Sales / Customer Service – Part or Full time – Summer Work</th>\n",
       "      <td>1935</td>\n",
       "      <td>484</td>\n",
       "    </tr>\n",
       "    <tr>\n",
       "      <th>Sales Representative / Account Manager /  Customer Service</th>\n",
       "      <td>1929</td>\n",
       "      <td>483</td>\n",
       "    </tr>\n",
       "    <tr>\n",
       "      <th>Senior Accountant</th>\n",
       "      <td>1773</td>\n",
       "      <td>443</td>\n",
       "    </tr>\n",
       "    <tr>\n",
       "      <th>Jani-King Franchise Business Opportunity</th>\n",
       "      <td>1757</td>\n",
       "      <td>439</td>\n",
       "    </tr>\n",
       "    <tr>\n",
       "      <th>Benefits Consultant</th>\n",
       "      <td>1639</td>\n",
       "      <td>410</td>\n",
       "    </tr>\n",
       "    <tr>\n",
       "      <th>Store Manager</th>\n",
       "      <td>1617</td>\n",
       "      <td>404</td>\n",
       "    </tr>\n",
       "    <tr>\n",
       "      <th>Account Representative</th>\n",
       "      <td>1582</td>\n",
       "      <td>395</td>\n",
       "    </tr>\n",
       "    <tr>\n",
       "      <th>Account Executive</th>\n",
       "      <td>1501</td>\n",
       "      <td>375</td>\n",
       "    </tr>\n",
       "    <tr>\n",
       "      <th>Maintenance Technician</th>\n",
       "      <td>1467</td>\n",
       "      <td>367</td>\n",
       "    </tr>\n",
       "    <tr>\n",
       "      <th>Customer Service - Sales Representative - Part Time Work</th>\n",
       "      <td>1458</td>\n",
       "      <td>365</td>\n",
       "    </tr>\n",
       "    <tr>\n",
       "      <th>Java Developer</th>\n",
       "      <td>1437</td>\n",
       "      <td>359</td>\n",
       "    </tr>\n",
       "    <tr>\n",
       "      <th>Financial Analyst</th>\n",
       "      <td>1403</td>\n",
       "      <td>351</td>\n",
       "    </tr>\n",
       "    <tr>\n",
       "      <th>Inside Sales Representative</th>\n",
       "      <td>1392</td>\n",
       "      <td>348</td>\n",
       "    </tr>\n",
       "    <tr>\n",
       "      <th>Cashier</th>\n",
       "      <td>1374</td>\n",
       "      <td>343</td>\n",
       "    </tr>\n",
       "    <tr>\n",
       "      <th>Sales Management Trainee</th>\n",
       "      <td>1366</td>\n",
       "      <td>342</td>\n",
       "    </tr>\n",
       "    <tr>\n",
       "      <th>Restaurant Manager</th>\n",
       "      <td>1343</td>\n",
       "      <td>336</td>\n",
       "    </tr>\n",
       "    <tr>\n",
       "      <th>Executive Assistant</th>\n",
       "      <td>1293</td>\n",
       "      <td>323</td>\n",
       "    </tr>\n",
       "    <tr>\n",
       "      <th>Receptionist</th>\n",
       "      <td>1260</td>\n",
       "      <td>315</td>\n",
       "    </tr>\n",
       "    <tr>\n",
       "      <th>Physical Therapist</th>\n",
       "      <td>1260</td>\n",
       "      <td>315</td>\n",
       "    </tr>\n",
       "  </tbody>\n",
       "</table>\n",
       "</div>"
      ],
      "text/plain": [
       "                                                    train  test\n",
       "Administrative Assistant                             3516   879\n",
       "Customer Service Representative                      3360   840\n",
       "Own Your Own Franchise!                              2961   740\n",
       "Sales Representative                                 2845   711\n",
       "Mobile Tool Sales / Franchise Distributor            2620   655\n",
       "Retail Wireless Sales Consultant                     2555   639\n",
       "Sales / Franchise                                    2496   624\n",
       "Project Manager                                      2276   569\n",
       "Staff Accountant                                     2267   567\n",
       "Retail Sales Associate                               2215   554\n",
       "Business Analyst                                     1936   484\n",
       "Sales / Customer Service – Part or Full time – ...   1935   484\n",
       "Sales Representative / Account Manager /  Custo...   1929   483\n",
       "Senior Accountant                                    1773   443\n",
       "Jani-King Franchise Business Opportunity             1757   439\n",
       "Benefits Consultant                                  1639   410\n",
       "Store Manager                                        1617   404\n",
       "Account Representative                               1582   395\n",
       "Account Executive                                    1501   375\n",
       "Maintenance Technician                               1467   367\n",
       "Customer Service - Sales Representative - Part ...   1458   365\n",
       "Java Developer                                       1437   359\n",
       "Financial Analyst                                    1403   351\n",
       "Inside Sales Representative                          1392   348\n",
       "Cashier                                              1374   343\n",
       "Sales Management Trainee                             1366   342\n",
       "Restaurant Manager                                   1343   336\n",
       "Executive Assistant                                  1293   323\n",
       "Receptionist                                         1260   315\n",
       "Physical Therapist                                   1260   315"
      ]
     },
     "execution_count": 180,
     "metadata": {},
     "output_type": "execute_result"
    }
   ],
   "source": [
    "print(f\"train/test: {split_df['train'].sum()}/{split_df['test'].sum()}\")\n",
    "split_df"
   ]
  },
  {
   "cell_type": "markdown",
   "metadata": {},
   "source": [
    "## Naive Bayes classifier"
   ]
  },
  {
   "cell_type": "code",
   "execution_count": 239,
   "metadata": {
    "ExecuteTime": {
     "end_time": "2020-09-14T06:18:35.941571Z",
     "start_time": "2020-09-14T06:14:31.187869Z"
    }
   },
   "outputs": [
    {
     "name": "stdout",
     "output_type": "stream",
     "text": [
      "Fitting 2 folds for each of 2 candidates, totalling 4 fits\n"
     ]
    },
    {
     "name": "stderr",
     "output_type": "stream",
     "text": [
      "[Parallel(n_jobs=2)]: Using backend LokyBackend with 2 concurrent workers.\n",
      "[Parallel(n_jobs=2)]: Done   1 tasks      | elapsed:  1.4min\n",
      "[Parallel(n_jobs=2)]: Done   2 out of   4 | elapsed:  1.5min remaining:  1.5min\n",
      "[Parallel(n_jobs=2)]: Done   4 out of   4 | elapsed:  2.6min remaining:    0.0s\n",
      "[Parallel(n_jobs=2)]: Done   4 out of   4 | elapsed:  2.6min finished\n"
     ]
    },
    {
     "name": "stdout",
     "output_type": "stream",
     "text": [
      "[('tfidf', TfidfVectorizer(max_features=2000, ngram_range=(1, 2),\n",
      "                tokenizer=<bound method SpacyTokenizer.tokenizer of <__main__.SpacyTokenizer object at 0x7f3fa111f9d0>>)), ('clf', MultinomialNB(alpha=0.001))]\n",
      "                                                            precision    recall  f1-score   support\n",
      "\n",
      "                                         Account Executive       0.79      0.79      0.79       375\n",
      "                                    Account Representative       0.80      0.01      0.02       395\n",
      "                                  Administrative Assistant       0.70      0.88      0.78       879\n",
      "                                       Benefits Consultant       0.54      0.99      0.70       410\n",
      "                                          Business Analyst       0.87      0.80      0.84       484\n",
      "                                                   Cashier       0.96      0.87      0.91       343\n",
      "  Customer Service - Sales Representative - Part Time Work       1.00      1.00      1.00       365\n",
      "                           Customer Service Representative       0.77      0.80      0.78       840\n",
      "                                       Executive Assistant       0.88      0.53      0.66       323\n",
      "                                         Financial Analyst       0.79      0.81      0.80       351\n",
      "                               Inside Sales Representative       0.92      0.55      0.69       348\n",
      "                  Jani-King Franchise Business Opportunity       1.00      1.00      1.00       439\n",
      "                                            Java Developer       0.87      0.93      0.90       359\n",
      "                                    Maintenance Technician       0.95      0.95      0.95       367\n",
      "                 Mobile Tool Sales / Franchise Distributor       1.00      1.00      1.00       655\n",
      "                                   Own Your Own Franchise!       1.00      1.00      1.00       740\n",
      "                                        Physical Therapist       0.99      0.99      0.99       315\n",
      "                                           Project Manager       0.91      0.86      0.88       569\n",
      "                                              Receptionist       0.94      0.70      0.80       315\n",
      "                                        Restaurant Manager       0.98      0.95      0.96       336\n",
      "                                    Retail Sales Associate       1.00      0.88      0.93       554\n",
      "                          Retail Wireless Sales Consultant       1.00      1.00      1.00       639\n",
      "Sales / Customer Service – Part or Full time – Summer Work       1.00      1.00      1.00       484\n",
      "                                         Sales / Franchise       1.00      1.00      1.00       624\n",
      "                                  Sales Management Trainee       1.00      0.90      0.95       342\n",
      "                                      Sales Representative       0.67      0.89      0.76       711\n",
      "Sales Representative / Account Manager /  Customer Service       1.00      1.00      1.00       483\n",
      "                                         Senior Accountant       0.79      0.72      0.75       443\n",
      "                                          Staff Accountant       0.82      0.85      0.84       567\n",
      "                                             Store Manager       0.74      0.92      0.82       404\n",
      "\n",
      "                                                  accuracy                           0.87     14459\n",
      "                                                 macro avg       0.89      0.85      0.85     14459\n",
      "                                              weighted avg       0.88      0.87      0.86     14459\n",
      "\n"
     ]
    }
   ],
   "source": [
    "pipeline = Pipeline([\n",
    "    ('tfidf', TfidfVectorizer(tokenizer=SpacyTokenizer().tokenizer, max_features=2000)),\n",
    "    ('clf', MultinomialNB(fit_prior=True, class_prior=None)),\n",
    "])\n",
    "\n",
    "parameters = {\n",
    "    'tfidf__ngram_range': [(1, 2)],\n",
    "    'clf__alpha': (1e-2, 1e-3)\n",
    "}\n",
    "\n",
    "nb_pipeline = tune_pipeline(pipeline, parameters, train['Description'], train['Query'], n_splits=5)\n",
    "print(nb_pipeline.steps)\n",
    "joblib.dump(nb_pipeline, './models/nb_pipeline.joblib')\n",
    "\n",
    "pred = nb_pipeline.predict(test['Description'])\n",
    "print(classification_report(test['Query'], pred))"
   ]
  },
  {
   "cell_type": "markdown",
   "metadata": {},
   "source": [
    "## LogisticRegression"
   ]
  },
  {
   "cell_type": "code",
   "execution_count": 240,
   "metadata": {
    "ExecuteTime": {
     "end_time": "2020-09-14T06:32:08.215426Z",
     "start_time": "2020-09-14T06:22:12.704871Z"
    }
   },
   "outputs": [
    {
     "name": "stdout",
     "output_type": "stream",
     "text": [
      "Fitting 2 folds for each of 6 candidates, totalling 12 fits\n"
     ]
    },
    {
     "name": "stderr",
     "output_type": "stream",
     "text": [
      "[Parallel(n_jobs=2)]: Using backend LokyBackend with 2 concurrent workers.\n",
      "[Parallel(n_jobs=2)]: Done   1 tasks      | elapsed:  1.4min\n",
      "[Parallel(n_jobs=2)]: Done   4 tasks      | elapsed:  2.7min\n",
      "[Parallel(n_jobs=2)]: Done   9 tasks      | elapsed:  6.5min\n",
      "[Parallel(n_jobs=2)]: Done  12 out of  12 | elapsed:  8.1min finished\n"
     ]
    },
    {
     "name": "stdout",
     "output_type": "stream",
     "text": [
      "[('tfidf', TfidfVectorizer(max_features=2000, ngram_range=(1, 2),\n",
      "                tokenizer=<bound method SpacyTokenizer.tokenizer of <__main__.SpacyTokenizer object at 0x7f3fba5d9910>>)), ('clf', LogisticRegression(C=1, class_weight='balanced', solver='sag'))]\n",
      "                                                            precision    recall  f1-score   support\n",
      "\n",
      "                                         Account Executive       0.90      0.92      0.91       375\n",
      "                                    Account Representative       0.75      0.92      0.82       395\n",
      "                                  Administrative Assistant       0.91      0.84      0.87       879\n",
      "                                       Benefits Consultant       0.99      0.70      0.82       410\n",
      "                                          Business Analyst       0.95      0.90      0.92       484\n",
      "                                                   Cashier       0.98      0.96      0.97       343\n",
      "  Customer Service - Sales Representative - Part Time Work       1.00      1.00      1.00       365\n",
      "                           Customer Service Representative       0.94      0.93      0.94       840\n",
      "                                       Executive Assistant       0.78      0.87      0.82       323\n",
      "                                         Financial Analyst       0.84      0.93      0.88       351\n",
      "                               Inside Sales Representative       0.91      0.90      0.90       348\n",
      "                  Jani-King Franchise Business Opportunity       1.00      1.00      1.00       439\n",
      "                                            Java Developer       0.98      0.97      0.97       359\n",
      "                                    Maintenance Technician       0.99      0.99      0.99       367\n",
      "                 Mobile Tool Sales / Franchise Distributor       1.00      1.00      1.00       655\n",
      "                                   Own Your Own Franchise!       1.00      1.00      1.00       740\n",
      "                                        Physical Therapist       0.98      0.99      0.99       315\n",
      "                                           Project Manager       0.97      0.95      0.96       569\n",
      "                                              Receptionist       0.87      0.93      0.90       315\n",
      "                                        Restaurant Manager       0.99      0.98      0.98       336\n",
      "                                    Retail Sales Associate       0.99      0.98      0.99       554\n",
      "                          Retail Wireless Sales Consultant       1.00      1.00      1.00       639\n",
      "Sales / Customer Service – Part or Full time – Summer Work       1.00      1.00      1.00       484\n",
      "                                         Sales / Franchise       1.00      1.00      1.00       624\n",
      "                                  Sales Management Trainee       1.00      0.99      0.99       342\n",
      "                                      Sales Representative       0.83      0.95      0.89       711\n",
      "Sales Representative / Account Manager /  Customer Service       1.00      1.00      1.00       483\n",
      "                                         Senior Accountant       0.89      0.87      0.88       443\n",
      "                                          Staff Accountant       0.93      0.90      0.92       567\n",
      "                                             Store Manager       0.98      0.97      0.98       404\n",
      "\n",
      "                                                  accuracy                           0.94     14459\n",
      "                                                 macro avg       0.94      0.94      0.94     14459\n",
      "                                              weighted avg       0.95      0.94      0.94     14459\n",
      "\n"
     ]
    }
   ],
   "source": [
    "pipeline = Pipeline([\n",
    "    ('tfidf', TfidfVectorizer(tokenizer=SpacyTokenizer().tokenizer, max_features=2000)),\n",
    "    ('clf', LogisticRegression(solver='sag')),\n",
    "])\n",
    "parameters = {\n",
    "    'tfidf__ngram_range': [(1, 2)],\n",
    "    \"clf__C\": [0.01, 0.1, 1],\n",
    "    \"clf__class_weight\": ['balanced', None],\n",
    "}\n",
    "\n",
    "logistic_regression_pipeline = tune_pipeline(pipeline, parameters, train['Description'], train['Query'], n_splits=5)\n",
    "print(logistic_regression_pipeline.steps)\n",
    "joblib.dump(logistic_regression_pipeline, './models/logistic_regression_pipeline.joblib')\n",
    "\n",
    "pred = logistic_regression_pipeline.predict(test['Description'])\n",
    "print(classification_report(test['Query'], pred))"
   ]
  },
  {
   "cell_type": "markdown",
   "metadata": {},
   "source": [
    "## DecisionTreeClassifier"
   ]
  },
  {
   "cell_type": "code",
   "execution_count": 241,
   "metadata": {
    "ExecuteTime": {
     "end_time": "2020-09-14T06:41:34.585656Z",
     "start_time": "2020-09-14T06:33:45.267895Z"
    }
   },
   "outputs": [
    {
     "name": "stdout",
     "output_type": "stream",
     "text": [
      "Fitting 2 folds for each of 4 candidates, totalling 8 fits\n"
     ]
    },
    {
     "name": "stderr",
     "output_type": "stream",
     "text": [
      "[Parallel(n_jobs=2)]: Using backend LokyBackend with 2 concurrent workers.\n",
      "[Parallel(n_jobs=2)]: Done   1 tasks      | elapsed:  1.5min\n",
      "[Parallel(n_jobs=2)]: Done   4 tasks      | elapsed:  3.2min\n",
      "[Parallel(n_jobs=2)]: Done   6 out of   8 | elapsed:  4.5min remaining:  1.5min\n",
      "[Parallel(n_jobs=2)]: Done   8 out of   8 | elapsed:  6.0min remaining:    0.0s\n",
      "[Parallel(n_jobs=2)]: Done   8 out of   8 | elapsed:  6.0min finished\n"
     ]
    },
    {
     "name": "stdout",
     "output_type": "stream",
     "text": [
      "[('tfidf', TfidfVectorizer(max_features=2000, ngram_range=(1, 2),\n",
      "                tokenizer=<bound method SpacyTokenizer.tokenizer of <__main__.SpacyTokenizer object at 0x7f3faebf1350>>)), ('clf', DecisionTreeClassifier(class_weight='balanced'))]\n",
      "                                                            precision    recall  f1-score   support\n",
      "\n",
      "                                         Account Executive       0.94      0.89      0.91       375\n",
      "                                    Account Representative       0.72      0.96      0.82       395\n",
      "                                  Administrative Assistant       0.85      0.83      0.84       879\n",
      "                                       Benefits Consultant       1.00      0.70      0.82       410\n",
      "                                          Business Analyst       0.86      0.86      0.86       484\n",
      "                                                   Cashier       0.95      0.96      0.95       343\n",
      "  Customer Service - Sales Representative - Part Time Work       1.00      1.00      1.00       365\n",
      "                           Customer Service Representative       0.91      0.92      0.91       840\n",
      "                                       Executive Assistant       0.77      0.77      0.77       323\n",
      "                                         Financial Analyst       0.85      0.85      0.85       351\n",
      "                               Inside Sales Representative       0.89      0.88      0.88       348\n",
      "                  Jani-King Franchise Business Opportunity       1.00      1.00      1.00       439\n",
      "                                            Java Developer       0.96      0.92      0.94       359\n",
      "                                    Maintenance Technician       0.97      0.96      0.97       367\n",
      "                 Mobile Tool Sales / Franchise Distributor       1.00      1.00      1.00       655\n",
      "                                   Own Your Own Franchise!       1.00      1.00      1.00       740\n",
      "                                        Physical Therapist       0.99      0.97      0.98       315\n",
      "                                           Project Manager       0.89      0.94      0.91       569\n",
      "                                              Receptionist       0.85      0.83      0.84       315\n",
      "                                        Restaurant Manager       0.98      0.96      0.97       336\n",
      "                                    Retail Sales Associate       0.99      0.99      0.99       554\n",
      "                          Retail Wireless Sales Consultant       1.00      1.00      1.00       639\n",
      "Sales / Customer Service – Part or Full time – Summer Work       1.00      1.00      1.00       484\n",
      "                                         Sales / Franchise       1.00      1.00      1.00       624\n",
      "                                  Sales Management Trainee       1.00      0.99      1.00       342\n",
      "                                      Sales Representative       0.86      0.93      0.89       711\n",
      "Sales Representative / Account Manager /  Customer Service       1.00      1.00      1.00       483\n",
      "                                         Senior Accountant       0.86      0.84      0.85       443\n",
      "                                          Staff Accountant       0.89      0.88      0.88       567\n",
      "                                             Store Manager       0.96      0.96      0.96       404\n",
      "\n",
      "                                                  accuracy                           0.93     14459\n",
      "                                                 macro avg       0.93      0.93      0.93     14459\n",
      "                                              weighted avg       0.93      0.93      0.93     14459\n",
      "\n"
     ]
    }
   ],
   "source": [
    "pipeline = Pipeline([\n",
    "    ('tfidf', TfidfVectorizer(tokenizer=SpacyTokenizer().tokenizer, max_features=2000)),\n",
    "    ('clf', DecisionTreeClassifier()),\n",
    "])\n",
    "parameters = {\n",
    "    'tfidf__ngram_range': [(1, 2), (1, 3)],\n",
    "    \"clf__class_weight\": ['balanced', None],\n",
    "}\n",
    "\n",
    "decision_tree_pipeline = tune_pipeline(pipeline, parameters, train['Description'], train['Query'], n_splits=5)\n",
    "print(decision_tree_pipeline.steps)\n",
    "joblib.dump(decision_tree_pipeline, './models/decision_tree_pipeline.joblib')\n",
    "\n",
    "pred = decision_tree_pipeline.predict(test['Description'])\n",
    "print(classification_report(test['Query'], pred))"
   ]
  },
  {
   "cell_type": "markdown",
   "metadata": {},
   "source": [
    "## LinearSVC classifier"
   ]
  },
  {
   "cell_type": "code",
   "execution_count": 242,
   "metadata": {
    "ExecuteTime": {
     "end_time": "2020-09-14T06:50:55.381379Z",
     "start_time": "2020-09-14T06:41:47.251800Z"
    }
   },
   "outputs": [
    {
     "name": "stdout",
     "output_type": "stream",
     "text": [
      "Fitting 2 folds for each of 6 candidates, totalling 12 fits\n"
     ]
    },
    {
     "name": "stderr",
     "output_type": "stream",
     "text": [
      "[Parallel(n_jobs=2)]: Using backend LokyBackend with 2 concurrent workers.\n",
      "[Parallel(n_jobs=2)]: Done   1 tasks      | elapsed:  1.4min\n",
      "[Parallel(n_jobs=2)]: Done   4 tasks      | elapsed:  2.7min\n",
      "[Parallel(n_jobs=2)]: Done   9 tasks      | elapsed:  6.2min\n",
      "[Parallel(n_jobs=2)]: Done  12 out of  12 | elapsed:  7.5min finished\n"
     ]
    },
    {
     "name": "stdout",
     "output_type": "stream",
     "text": [
      "[('tfidf', TfidfVectorizer(max_features=2000, ngram_range=(1, 2),\n",
      "                tokenizer=<bound method SpacyTokenizer.tokenizer of <__main__.SpacyTokenizer object at 0x7f3fc1b97c90>>)), ('clf', LinearSVC(C=1))]\n",
      "                                                            precision    recall  f1-score   support\n",
      "\n",
      "                                         Account Executive       0.93      0.91      0.92       375\n",
      "                                    Account Representative       0.75      0.93      0.83       395\n",
      "                                  Administrative Assistant       0.88      0.91      0.89       879\n",
      "                                       Benefits Consultant       0.99      0.70      0.82       410\n",
      "                                          Business Analyst       0.94      0.92      0.93       484\n",
      "                                                   Cashier       0.98      0.96      0.97       343\n",
      "  Customer Service - Sales Representative - Part Time Work       1.00      1.00      1.00       365\n",
      "                           Customer Service Representative       0.94      0.96      0.95       840\n",
      "                                       Executive Assistant       0.86      0.80      0.83       323\n",
      "                                         Financial Analyst       0.88      0.91      0.90       351\n",
      "                               Inside Sales Representative       0.96      0.89      0.92       348\n",
      "                  Jani-King Franchise Business Opportunity       1.00      1.00      1.00       439\n",
      "                                            Java Developer       0.98      0.98      0.98       359\n",
      "                                    Maintenance Technician       0.99      0.99      0.99       367\n",
      "                 Mobile Tool Sales / Franchise Distributor       1.00      1.00      1.00       655\n",
      "                                   Own Your Own Franchise!       1.00      1.00      1.00       740\n",
      "                                        Physical Therapist       0.99      0.99      0.99       315\n",
      "                                           Project Manager       0.95      0.96      0.96       569\n",
      "                                              Receptionist       0.94      0.88      0.91       315\n",
      "                                        Restaurant Manager       0.99      0.98      0.99       336\n",
      "                                    Retail Sales Associate       0.99      1.00      0.99       554\n",
      "                          Retail Wireless Sales Consultant       1.00      1.00      1.00       639\n",
      "Sales / Customer Service – Part or Full time – Summer Work       1.00      1.00      1.00       484\n",
      "                                         Sales / Franchise       1.00      1.00      1.00       624\n",
      "                                  Sales Management Trainee       1.00      1.00      1.00       342\n",
      "                                      Sales Representative       0.88      0.96      0.92       711\n",
      "Sales Representative / Account Manager /  Customer Service       1.00      1.00      1.00       483\n",
      "                                         Senior Accountant       0.89      0.86      0.88       443\n",
      "                                          Staff Accountant       0.92      0.92      0.92       567\n",
      "                                             Store Manager       0.99      0.98      0.99       404\n",
      "\n",
      "                                                  accuracy                           0.95     14459\n",
      "                                                 macro avg       0.95      0.95      0.95     14459\n",
      "                                              weighted avg       0.95      0.95      0.95     14459\n",
      "\n"
     ]
    }
   ],
   "source": [
    "pipeline = Pipeline([\n",
    "    ('tfidf', TfidfVectorizer(tokenizer=SpacyTokenizer().tokenizer, max_features=2000)),\n",
    "    ('clf', LinearSVC(multi_class='ovr'))\n",
    "])\n",
    "\n",
    "parameters = {\n",
    "    'tfidf__ngram_range': [(1, 2)],\n",
    "    \"clf__C\": [0.01, 0.1, 1],\n",
    "    \"clf__class_weight\": ['balanced', None],\n",
    "}\n",
    "\n",
    "linear_svc_pipeline = tune_pipeline(pipeline, parameters, train['Description'], train['Query'], n_splits=5)\n",
    "print(linear_svc_pipeline.steps)\n",
    "joblib.dump(linear_svc_pipeline, './models/linear_svc_pipeline.joblib')\n",
    "\n",
    "pred = linear_svc_pipeline.predict(test['Description'])\n",
    "print(classification_report(test['Query'], pred))"
   ]
  },
  {
   "cell_type": "markdown",
   "metadata": {},
   "source": [
    "# Test"
   ]
  },
  {
   "cell_type": "code",
   "execution_count": 274,
   "metadata": {
    "ExecuteTime": {
     "end_time": "2020-09-14T09:08:11.830604Z",
     "start_time": "2020-09-14T09:08:09.559704Z"
    }
   },
   "outputs": [],
   "source": [
    "classifier_pipeline = joblib.load('./models/linear_svc_pipeline.joblib')"
   ]
  },
  {
   "cell_type": "code",
   "execution_count": 292,
   "metadata": {
    "ExecuteTime": {
     "end_time": "2020-09-14T09:16:19.826527Z",
     "start_time": "2020-09-14T09:16:19.815122Z"
    }
   },
   "outputs": [
    {
     "name": "stdout",
     "output_type": "stream",
     "text": [
      "Category: Restaurant Manager\n",
      "Description: <P style=\"TEXT-ALIGN: center\"><STRONG>Piccadilly Restaurant Management<BR>\\rOpportunities!<BR>\\r<BR>\\r</STRONG>We are interviewing high energy Restaurant Manager Candidates for our locations throughout Richmond, VA.<BR>\\r<BR>\\r<STRONG>Join Us For Interviews<BR>\\rTuesday, June 5th<BR>\\r9:30am - 4:30pm<BR>\\r@<BR>\\rPiccadilly<BR>\\r8004 Broad Street<BR>\\rRichmond, VA<BR>\\r<BR>\\rFor consideration, please email or fax your resume to: <BR>\\r</STRONG><A href=\"mailto:FTM@selfopportunity.com\"><STRONG>FTM@selfopportunity.com</STRONG></A> <STRONG>or 469-671-3828<BR>\\r</STRONG><BR>\\rYou may also call 800-594-7036 Ext. 120 to schedule your interview.<BR>\\r<BR>\\r<STRONG>Management Candidates:<BR>\\r</STRONG></P>\\r<P>Must have drive and flexibility.  Must have 2-4 years supervisory or management in QSR, contract dining or fast casual concept.</P>\\r<P><STRONG><BR>\\rCompetitive Salaries and Benefits:<BR>\\r</STRONG>*5-Day Work Week - 2 consecutive days off<BR>\\r*Early closing Time<BR>\\r*Complimentary dining privileges<BR>\\r*Medical, Dental & Vision Insurance<BR>\\r*Short and Long Term Disability Insurance<BR>\\r*Life Insurance<BR>\\r*Dependent Life Insurance<BR>\\r*401k Plan<BR>\\r*Vacation<BR>\\r*Employee Assistance Program<BR>\\r*Christmas Holiday</P>\\r<P style=\"TEXT-ALIGN: center\"><STRONG>Incentive Program<BR>\\r</STRONG>You share in the success of your restaurant once you become an Assistant Manager. And incentive payout is monthly.</P>\\r<P style=\"TEXT-ALIGN: center\"><STRONG>Promotion from Within<BR>\\r</STRONG>Piccadilly has a long history of filling management positions from within.</P>\\r<P style=\"TEXT-ALIGN: center\"><STRONG>Management Training<BR>\\r</STRONG>Our fast paced 10 week training program helps you develop a solid base to build upon and to grow successfully from.</P>\\r<P style=\"TEXT-ALIGN: center\"> </P>\\r<BR>\\rEEO and Drug Free Work Place<BR>\\r<BR>\n"
     ]
    }
   ],
   "source": [
    "test_record = test.sample().iloc[0]\n",
    "print(f\"Category: {test_record['Query']}\")\n",
    "print(f\"Description: {test_record['Description']}\")"
   ]
  },
  {
   "cell_type": "code",
   "execution_count": 293,
   "metadata": {
    "ExecuteTime": {
     "end_time": "2020-09-14T09:16:37.333006Z",
     "start_time": "2020-09-14T09:16:37.322728Z"
    }
   },
   "outputs": [
    {
     "data": {
      "text/plain": [
       "array(['Restaurant Manager'], dtype=object)"
      ]
     },
     "execution_count": 293,
     "metadata": {},
     "output_type": "execute_result"
    }
   ],
   "source": [
    "classifier_pipeline.predict([test_record['Description']])"
   ]
  }
 ],
 "metadata": {
  "kernelspec": {
   "display_name": "Python 3",
   "language": "python",
   "name": "python3"
  },
  "language_info": {
   "codemirror_mode": {
    "name": "ipython",
    "version": 3
   },
   "file_extension": ".py",
   "mimetype": "text/x-python",
   "name": "python",
   "nbconvert_exporter": "python",
   "pygments_lexer": "ipython3",
   "version": "3.7.7"
  },
  "toc": {
   "base_numbering": 1,
   "nav_menu": {},
   "number_sections": true,
   "sideBar": true,
   "skip_h1_title": false,
   "title_cell": "Table of Contents",
   "title_sidebar": "Contents",
   "toc_cell": false,
   "toc_position": {
    "height": "717.069px",
    "left": "0px",
    "top": "109.778px",
    "width": "259px"
   },
   "toc_section_display": true,
   "toc_window_display": true
  }
 },
 "nbformat": 4,
 "nbformat_minor": 4
}
