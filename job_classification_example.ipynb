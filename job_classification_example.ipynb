{
 "cells": [
  {
   "cell_type": "code",
   "execution_count": 1,
   "metadata": {
    "ExecuteTime": {
     "end_time": "2020-09-14T10:45:20.276212Z",
     "start_time": "2020-09-14T10:45:20.269812Z"
    }
   },
   "outputs": [],
   "source": [
    "import spacy\n",
    "from gensim.parsing.preprocessing import strip_tags\n",
    "\n",
    "import sklearn\n",
    "from sklearn.model_selection import train_test_split\n",
    "from sklearn.feature_extraction.text import TfidfVectorizer\n",
    "\n",
    "from sklearn.naive_bayes import MultinomialNB\n",
    "from sklearn.tree import DecisionTreeClassifier\n",
    "from sklearn.linear_model import LogisticRegression\n",
    "from sklearn.svm import LinearSVC\n",
    "\n",
    "from sklearn.pipeline import Pipeline\n",
    "from sklearn.model_selection import GridSearchCV\n",
    "from sklearn.model_selection import StratifiedShuffleSplit\n",
    "from sklearn.metrics import accuracy_score, classification_report\n",
    "\n",
    "import joblib\n",
    "import pandas as pd\n",
    "import numpy as np\n",
    "import re\n",
    "\n",
    "import matplotlib.pyplot as plt\n",
    "import matplotlib.pylab as pylab\n",
    "params = {'figure.figsize': (15, 10),\n",
    "         'axes.labelsize': 'x-large',\n",
    "         'axes.titlesize':'x-large'}\n",
    "\n",
    "pylab.rcParams.update(params)\n",
    "\n",
    "import warnings\n",
    "warnings.filterwarnings(\"ignore\")\n",
    "\n",
    "import tqdm"
   ]
  },
  {
   "cell_type": "code",
   "execution_count": 22,
   "metadata": {
    "ExecuteTime": {
     "end_time": "2020-09-14T10:01:12.847344Z",
     "start_time": "2020-09-14T10:01:12.838213Z"
    }
   },
   "outputs": [],
   "source": [
    "class SpacyTokenizer():\n",
    "    '''\n",
    "    Custom tokenizer\n",
    "    '''\n",
    "    def __init__(self, model='en_core_web_sm'):\n",
    "        self.model = model\n",
    "        self.nlp = spacy.load(model)\n",
    "        self.spacy_tokenizer = self.nlp.Defaults.create_tokenizer(self.nlp)\n",
    "        self.stop_words = self.nlp.Defaults.stop_words\n",
    "        \n",
    "    def tokenizer(self, input_text: str):\n",
    "        '''\n",
    "        Preprocess and split text into tokens.\n",
    "        \n",
    "        Parameters:\n",
    "        \n",
    "        input_text: str\n",
    "            Input text.\n",
    "            \n",
    "        Returns:\n",
    "            np.ndarray: list of tokens\n",
    "        '''\n",
    "        text = strip_tags(input_text.lower())\n",
    "        text = re.sub(r\"[^A-Za-z]\", \" \", text)\n",
    "\n",
    "        spacy_tokens = self.spacy_tokenizer(text)\n",
    "        tokens = [token.lemma_.strip() for token in spacy_tokens \n",
    "                  if (len(token.lemma_.strip()) > 1) and not token.lemma_.strip() in self.stop_words]\n",
    "\n",
    "        return tokens  \n",
    "    \n",
    "def get_top_n_words(corpus: np.ndarray, n: int=5, ngram_range: tuple=(1,3)):\n",
    "    '''\n",
    "    Get top common n-grams in corpus.\n",
    "    \n",
    "    Parameters:\n",
    "    corpus: np.ndarray\n",
    "        Array of texts.\n",
    "    n: int (default: 5)\n",
    "        Number of top n-grams to return.\n",
    "    ngram_range: tuple (default: (1,3))\n",
    "        Range of n-grams.\n",
    "        \n",
    "    Returns:\n",
    "        np.ndarray: list of top common n-grams.\n",
    "        \n",
    "    '''\n",
    "    \n",
    "    tf_idf_vec = TfidfVectorizer(ngram_range=ngram_range, max_features=2000, tokenizer=SpacyTokenizer().tokenizer)\n",
    "    tf_idf_vec.fit(corpus)\n",
    "\n",
    "    bag_of_words = tf_idf_vec.transform(corpus)\n",
    "\n",
    "    sum_words = bag_of_words.sum(axis=0) \n",
    "    words_freq = [(word, sum_words[0, idx]) for word, idx in     \n",
    "                  tf_idf_vec.vocabulary_.items()]\n",
    "    words_freq = sorted(words_freq, key = lambda x: x[1], reverse=True)\n",
    "    \n",
    "    return words_freq[:n]\n",
    "\n",
    "def tune_pipeline(pipeline: sklearn.pipeline, parameters: np.ndarray, X: pd.Series, y: pd.Series, n_splits: int=2):\n",
    "    '''\n",
    "    Find the best parameters for pipeline.\n",
    "    \n",
    "    Parameters:\n",
    "    pipeline: sklearn.pipeline\n",
    "        Pipeline for tunning.\n",
    "    parameters: np.ndarray\n",
    "        List of parameters are used for tunning.\n",
    "    X: pd.Series\n",
    "        Training vector.\n",
    "    y: pd.Series\n",
    "        Target vector relative to X.\n",
    "    n_splits: int (default: 2)\n",
    "        Number of re-shuffling and splitting iterations.\n",
    "    \n",
    "    Returns:\n",
    "        sklearn.pipeline: tunned pipeline.\n",
    "    '''\n",
    "    grid_search = GridSearchCV(pipeline, parameters, \n",
    "        cv=StratifiedShuffleSplit(n_splits=2, test_size=0.2, random_state=42),\n",
    "        n_jobs=-1, verbose=10)\n",
    "    \n",
    "    grid_search.fit(X, y)\n",
    "    \n",
    "    return grid_search.best_estimator_"
   ]
  },
  {
   "cell_type": "markdown",
   "metadata": {},
   "source": [
    "# Utils"
   ]
  },
  {
   "cell_type": "markdown",
   "metadata": {},
   "source": [
    "# Read data"
   ]
  },
  {
   "cell_type": "code",
   "execution_count": 3,
   "metadata": {
    "ExecuteTime": {
     "end_time": "2020-09-10T13:35:18.710691Z",
     "start_time": "2020-09-10T13:35:18.091322Z"
    }
   },
   "outputs": [
    {
     "name": "stdout",
     "output_type": "stream",
     "text": [
      "Dataset size: (72292, 4)\n"
     ]
    }
   ],
   "source": [
    "#If your dataset is too big you may use spark to read csv file. Look down\n",
    "dataset_df = pd.read_csv('./dataset/kaggle_top30.csv')\n",
    "print(f'Dataset size: {dataset_df.shape}')"
   ]
  },
  {
   "cell_type": "code",
   "execution_count": null,
   "metadata": {},
   "outputs": [],
   "source": [
    "# pyspark = SparkSession.builder.appName('clf').config('spark.sql.execution.arrow.pyspark.enabled', \"true\")\n",
    "# pyspark = pyspark.getOrCreate()\n",
    "# dataset_df = pyspark.read.csv('./dataset/kaggle_top30.csv', header=True)\n",
    "# dataset_df = dataset_df.toPandas()"
   ]
  },
  {
   "cell_type": "code",
   "execution_count": 4,
   "metadata": {},
   "outputs": [],
   "source": [
    "dataset_df = dataset_df.drop_duplicates('Description')"
   ]
  },
  {
   "cell_type": "code",
   "execution_count": 5,
   "metadata": {
    "ExecuteTime": {
     "end_time": "2020-09-10T13:35:38.477845Z",
     "start_time": "2020-09-10T13:35:38.465969Z"
    }
   },
   "outputs": [
    {
     "data": {
      "text/html": [
       "<div>\n",
       "<style scoped>\n",
       "    .dataframe tbody tr th:only-of-type {\n",
       "        vertical-align: middle;\n",
       "    }\n",
       "\n",
       "    .dataframe tbody tr th {\n",
       "        vertical-align: top;\n",
       "    }\n",
       "\n",
       "    .dataframe thead th {\n",
       "        text-align: right;\n",
       "    }\n",
       "</style>\n",
       "<table border=\"1\" class=\"dataframe\">\n",
       "  <thead>\n",
       "    <tr style=\"text-align: right;\">\n",
       "      <th></th>\n",
       "      <th>Unnamed: 0</th>\n",
       "      <th>Unnamed: 0.1</th>\n",
       "      <th>Query</th>\n",
       "      <th>Description</th>\n",
       "    </tr>\n",
       "  </thead>\n",
       "  <tbody>\n",
       "    <tr>\n",
       "      <th>0</th>\n",
       "      <td>10</td>\n",
       "      <td>10</td>\n",
       "      <td>Administrative Assistant</td>\n",
       "      <td>This Administrative Assistant position is resp...</td>\n",
       "    </tr>\n",
       "    <tr>\n",
       "      <th>1</th>\n",
       "      <td>35</td>\n",
       "      <td>35</td>\n",
       "      <td>Administrative Assistant</td>\n",
       "      <td>ADMINISTRATIVE ASSISTANT Part Time The West Or...</td>\n",
       "    </tr>\n",
       "    <tr>\n",
       "      <th>2</th>\n",
       "      <td>140</td>\n",
       "      <td>140</td>\n",
       "      <td>Administrative Assistant</td>\n",
       "      <td>Administrative Assistant -  In Bus 26yrs Fashi...</td>\n",
       "    </tr>\n",
       "    <tr>\n",
       "      <th>3</th>\n",
       "      <td>214</td>\n",
       "      <td>214</td>\n",
       "      <td>Sales Representative</td>\n",
       "      <td>Are you ready for something new? Are you tired...</td>\n",
       "    </tr>\n",
       "    <tr>\n",
       "      <th>4</th>\n",
       "      <td>350</td>\n",
       "      <td>350</td>\n",
       "      <td>Customer Service Representative</td>\n",
       "      <td>Superior Staff Resources is currently seeking ...</td>\n",
       "    </tr>\n",
       "  </tbody>\n",
       "</table>\n",
       "</div>"
      ],
      "text/plain": [
       "   Unnamed: 0  Unnamed: 0.1                            Query  \\\n",
       "0          10            10         Administrative Assistant   \n",
       "1          35            35         Administrative Assistant   \n",
       "2         140           140         Administrative Assistant   \n",
       "3         214           214             Sales Representative   \n",
       "4         350           350  Customer Service Representative   \n",
       "\n",
       "                                         Description  \n",
       "0  This Administrative Assistant position is resp...  \n",
       "1  ADMINISTRATIVE ASSISTANT Part Time The West Or...  \n",
       "2  Administrative Assistant -  In Bus 26yrs Fashi...  \n",
       "3  Are you ready for something new? Are you tired...  \n",
       "4  Superior Staff Resources is currently seeking ...  "
      ]
     },
     "execution_count": 5,
     "metadata": {},
     "output_type": "execute_result"
    }
   ],
   "source": [
    "dataset_df[:5]"
   ]
  },
  {
   "cell_type": "markdown",
   "metadata": {},
   "source": [
    "# EDA"
   ]
  },
  {
   "cell_type": "code",
   "execution_count": 6,
   "metadata": {
    "ExecuteTime": {
     "end_time": "2020-09-14T07:52:33.373795Z",
     "start_time": "2020-09-14T07:52:33.336332Z"
    }
   },
   "outputs": [
    {
     "data": {
      "text/plain": [
       "Unnamed: 0      31992\n",
       "Unnamed: 0.1    31992\n",
       "Query           31992\n",
       "Description     31992\n",
       "dtype: int64"
      ]
     },
     "execution_count": 6,
     "metadata": {},
     "output_type": "execute_result"
    }
   ],
   "source": [
    "dataset_df.count()"
   ]
  },
  {
   "cell_type": "code",
   "execution_count": 7,
   "metadata": {
    "ExecuteTime": {
     "end_time": "2020-09-14T08:24:24.596525Z",
     "start_time": "2020-09-14T08:24:24.378795Z"
    }
   },
   "outputs": [
    {
     "data": {
      "image/png": "[encoded data removed]",
      "text/plain": [
       "<Figure size 1080x720 with 1 Axes>"
      ]
     },
     "metadata": {
      "needs_background": "light"
     },
     "output_type": "display_data"
    }
   ],
   "source": [
    "dataset_df['Query'].value_counts().plot(kind='bar')\n",
    "plt.title('Job descriptions per job category')\n",
    "plt.show()"
   ]
  },
  {
   "cell_type": "code",
   "execution_count": 8,
   "metadata": {},
   "outputs": [],
   "source": [
    "for x in dataset_df['Query'].unique():\n",
    "    if len(dataset_df[dataset_df['Query'] == x]) < 50:\n",
    "        dataset_df = dataset_df[dataset_df['Query'] != x]"
   ]
  },
  {
   "cell_type": "code",
   "execution_count": 9,
   "metadata": {},
   "outputs": [
    {
     "data": {
      "image/png": "[encoded data removed]",
      "text/plain": [
       "<Figure size 1080x720 with 1 Axes>"
      ]
     },
     "metadata": {
      "needs_background": "light"
     },
     "output_type": "display_data"
    }
   ],
   "source": [
    "dataset_df['Query'].value_counts().plot(kind='bar')\n",
    "plt.title('Job descriptions per job category')\n",
    "plt.show()"
   ]
  },
  {
   "cell_type": "code",
   "execution_count": 10,
   "metadata": {
    "ExecuteTime": {
     "end_time": "2020-09-10T13:35:40.664868Z",
     "start_time": "2020-09-10T13:35:40.654720Z"
    }
   },
   "outputs": [
    {
     "data": {
      "text/plain": [
       "Administrative Assistant            4017\n",
       "Customer Service Representative     3294\n",
       "Staff Accountant                    2743\n",
       "Project Manager                     2621\n",
       "Business Analyst                    2302\n",
       "Senior Accountant                   2124\n",
       "Financial Analyst                   1661\n",
       "Maintenance Technician              1593\n",
       "Sales Representative                1546\n",
       "Executive Assistant                 1511\n",
       "Receptionist                        1427\n",
       "Java Developer                      1307\n",
       "Account Executive                   1082\n",
       "Restaurant Manager                   993\n",
       "Store Manager                        963\n",
       "Inside Sales Representative          897\n",
       "Physical Therapist                   792\n",
       "Retail Sales Associate               548\n",
       "Account Representative               195\n",
       "Cashier                              185\n",
       "Retail Wireless Sales Consultant      76\n",
       "Sales Management Trainee              67\n",
       "Name: Query, dtype: int64"
      ]
     },
     "execution_count": 10,
     "metadata": {},
     "output_type": "execute_result"
    }
   ],
   "source": [
    "dataset_df['Query'].value_counts()"
   ]
  },
  {
   "cell_type": "code",
   "execution_count": 12,
   "metadata": {
    "ExecuteTime": {
     "end_time": "2020-09-10T16:23:42.111523Z",
     "start_time": "2020-09-10T16:18:57.548179Z"
    }
   },
   "outputs": [
    {
     "name": "stderr",
     "output_type": "stream",
     "text": [
      "100%|██████████| 22/22 [40:42<00:00, 111.03s/it] \n"
     ]
    }
   ],
   "source": [
    "word_freq_dict = {}\n",
    "for query in tqdm.tqdm(dataset_df['Query'].unique()):\n",
    "    word_freq_dict[query] = get_top_n_words(dataset_df[dataset_df['Query']==query]['Description'], n=10, ngram_range=(1,4))"
   ]
  },
  {
   "cell_type": "code",
   "execution_count": 13,
   "metadata": {
    "ExecuteTime": {
     "end_time": "2020-09-10T16:24:39.971936Z",
     "start_time": "2020-09-10T16:24:39.964692Z"
    },
    "scrolled": false
   },
   "outputs": [
    {
     "name": "stdout",
     "output_type": "stream",
     "text": [
      "\n",
      "===\n",
      "Administrative Assistant\n",
      "\n",
      "nbsp                                242.91\n",
      "administrative                      231.05\n",
      "assistant                           178.76\n",
      "administrative assistant            164.01\n",
      "office                              162.17\n",
      "work                                136.95\n",
      "support                             132.19\n",
      "skill                               129.17\n",
      "experience                          122.66\n",
      "include                             121.85\n",
      "    \n",
      "\n",
      "===\n",
      "Sales Representative\n",
      "\n",
      "sale                                155.23\n",
      "nbsp                                155.00\n",
      "customer                            86.33\n",
      "service                             70.91\n",
      "representative                      63.40\n",
      "business                            62.32\n",
      "company                             61.12\n",
      "product                             56.98\n",
      "sale representative                 55.18\n",
      "nbsp nbsp                           52.75\n",
      "    \n",
      "\n",
      "===\n",
      "Customer Service Representative\n",
      "\n",
      "customer                            381.85\n",
      "service                             276.77\n",
      "customer service                    199.06\n",
      "nbsp                                196.27\n",
      "representative                      130.80\n",
      "order                               128.82\n",
      "work                                127.77\n",
      "service representative              123.42\n",
      "company                             117.05\n",
      "customer service representative     113.73\n",
      "    \n",
      "\n",
      "===\n",
      "Java Developer\n",
      "\n",
      "experience                          80.06\n",
      "java                                72.80\n",
      "development                         68.91\n",
      "application                         62.84\n",
      "work                                55.91\n",
      "technology                          55.88\n",
      "service                             55.34\n",
      "nbsp                                54.27\n",
      "developer                           53.97\n",
      "technical                           53.88\n",
      "    \n",
      "\n",
      "===\n",
      "Financial Analyst\n",
      "\n",
      "financial                           144.94\n",
      "report                              89.45\n",
      "nbsp                                86.84\n",
      "analysis                            84.07\n",
      "analyst                             81.74\n",
      "financial analyst                   71.90\n",
      "account                             65.40\n",
      "experience                          60.06\n",
      "business                            58.75\n",
      "budget                              56.80\n",
      "    \n",
      "\n",
      "===\n",
      "Project Manager\n",
      "\n",
      "project                             434.03\n",
      "nbsp                                142.58\n",
      "management                          129.63\n",
      "manager                             120.88\n",
      "experience                          115.31\n",
      "team                                110.36\n",
      "work                                107.23\n",
      "plan                                103.34\n",
      "project manager                     102.99\n",
      "manage                              99.75\n",
      "    \n",
      "\n",
      "===\n",
      "Executive Assistant\n",
      "\n",
      "nbsp                                104.26\n",
      "executive                           102.03\n",
      "assistant                           69.72\n",
      "support                             63.84\n",
      "executive assistant                 61.29\n",
      "administrative                      56.05\n",
      "experience                          53.46\n",
      "work                                51.34\n",
      "include                             50.31\n",
      "office                              50.21\n",
      "    \n",
      "\n",
      "===\n",
      "Maintenance Technician\n",
      "\n",
      "maintenance                         120.95\n",
      "nbsp                                109.38\n",
      "equipment                           88.65\n",
      "repair                              75.34\n",
      "work                                73.85\n",
      "technician                          61.55\n",
      "experience                          60.45\n",
      "maintenance technician              54.82\n",
      "perform                             54.68\n",
      "electrical                          52.08\n",
      "    \n",
      "\n",
      "===\n",
      "Physical Therapist\n",
      "\n",
      "nbsp                                67.09\n",
      "physical                            60.69\n",
      "patient                             58.84\n",
      "therapist                           47.42\n",
      "therapy                             43.76\n",
      "care                                41.66\n",
      "physical therapist                  37.14\n",
      "time                                32.47\n",
      "physical therapy                    31.67\n",
      "service                             31.24\n",
      "    \n",
      "\n",
      "===\n",
      "Store Manager\n",
      "\n",
      "store                               113.28\n",
      "customer                            72.91\n",
      "nbsp                                70.10\n",
      "manager                             54.00\n",
      "company                             47.43\n",
      "sale                                46.10\n",
      "service                             45.37\n",
      "finance                             44.31\n",
      "work                                43.22\n",
      "include                             40.21\n",
      "    \n",
      "\n",
      "===\n",
      "Staff Accountant\n",
      "\n",
      "account                             212.85\n",
      "nbsp                                169.61\n",
      "accountant                          160.69\n",
      "staff                               151.66\n",
      "staff accountant                    110.90\n",
      "experience                          106.43\n",
      "financial                           101.04\n",
      "report                              98.01\n",
      "reconciliation                      87.59\n",
      "company                             85.98\n",
      "    \n",
      "\n",
      "===\n",
      "Inside Sales Representative\n",
      "\n",
      "sale                                88.55\n",
      "customer                            72.65\n",
      "nbsp                                70.35\n",
      "service                             42.26\n",
      "product                             39.58\n",
      "inside                              35.93\n",
      "business                            35.42\n",
      "inside sale                         34.77\n",
      "representative                      32.03\n",
      "company                             31.46\n",
      "    \n",
      "\n",
      "===\n",
      "Account Executive\n",
      "\n",
      "nbsp                                102.64\n",
      "sale                                95.43\n",
      "account                             62.22\n",
      "client                              61.26\n",
      "business                            59.95\n",
      "service                             51.09\n",
      "customer                            48.51\n",
      "product                             43.13\n",
      "executive                           43.09\n",
      "market                              42.91\n",
      "    \n",
      "\n",
      "===\n",
      "Receptionist\n",
      "\n",
      "nbsp                                83.65\n",
      "receptionist                        82.74\n",
      "office                              57.73\n",
      "phone                               45.71\n",
      "duty                                44.06\n",
      "position                            42.94\n",
      "work                                42.87\n",
      "service                             42.29\n",
      "company                             42.01\n",
      "customer                            41.11\n",
      "    \n",
      "\n",
      "===\n",
      "Senior Accountant\n",
      "\n",
      "account                             170.37\n",
      "nbsp                                125.36\n",
      "accountant                          115.62\n",
      "financial                           102.69\n",
      "senior                              101.77\n",
      "report                              91.12\n",
      "experience                          86.74\n",
      "senior accountant                   79.02\n",
      "company                             71.82\n",
      "year                                68.41\n",
      "    \n",
      "\n",
      "===\n",
      "Business Analyst\n",
      "\n",
      "business                            229.57\n",
      "requirement                         130.26\n",
      "project                             118.08\n",
      "experience                          111.72\n",
      "work                                105.45\n",
      "system                              102.02\n",
      "process                             100.77\n",
      "analyst                             93.10\n",
      "datum                               86.24\n",
      "nbsp                                84.80\n",
      "    \n",
      "\n",
      "===\n",
      "Restaurant Manager\n",
      "\n",
      "nbsp                                80.02\n",
      "restaurant                          77.33\n",
      "manager                             52.24\n",
      "plan                                37.41\n",
      "team                                37.09\n",
      "experience                          36.71\n",
      "service                             30.80\n",
      "nbsp nbsp                           30.33\n",
      "year                                29.79\n",
      "food                                29.19\n",
      "    \n",
      "\n",
      "===\n",
      "Account Representative\n",
      "\n",
      "nbsp                                20.85\n",
      "sale                                15.36\n",
      "customer                            11.86\n",
      "account                             11.18\n",
      "company                             9.01\n",
      "service                             8.85\n",
      "business                            8.33\n",
      "aflac                               8.20\n",
      "nbsp nbsp                           7.34\n",
      "representative                      7.10\n",
      "    \n",
      "\n",
      "===\n",
      "Retail Sales Associate\n",
      "\n",
      "sale                                61.78\n",
      "nbsp                                60.01\n",
      "customer                            45.53\n",
      "costco                              42.95\n",
      "product                             39.79\n",
      "costco member                       32.21\n",
      "member                              31.18\n",
      "duty                                28.87\n",
      "service                             23.78\n",
      "associate                           23.71\n",
      "    \n",
      "\n",
      "===\n",
      "Retail Wireless Sales Consultant\n",
      "\n",
      "sale                                13.88\n",
      "wireless                            13.88\n",
      "gowireless                          12.43\n",
      "product                             9.24\n",
      "service                             9.24\n",
      "experience                          9.07\n",
      "opportunity                         7.78\n",
      "time                                7.77\n",
      "management                          7.68\n",
      "retail                              7.61\n",
      "    \n",
      "\n",
      "===\n",
      "Sales Management Trainee\n",
      "\n",
      "aerotek                             11.87\n",
      "recruit                             11.52\n",
      "sale                                9.94\n",
      "candidate                           9.14\n",
      "service                             8.65\n",
      "work                                6.99\n",
      "customer                            6.43\n",
      "customer service                    6.23\n",
      "recruiter                           6.12\n",
      "client                              4.28\n",
      "    \n",
      "\n",
      "===\n",
      "Cashier\n",
      "\n",
      "customer                            14.52\n",
      "cashier                             13.61\n",
      "store                               9.47\n",
      "cash                                8.57\n",
      "work                                7.62\n",
      "service                             7.58\n",
      "aldi                                7.41\n",
      "look                                6.74\n",
      "nbsp                                5.97\n",
      "experience                          5.86\n",
      "    \n"
     ]
    }
   ],
   "source": [
    "for query in word_freq_dict:\n",
    "    stat_string = \"\\n\".join([f\"{word_freq[0]:35} {word_freq[1]:.2f}\" for word_freq in word_freq_dict[query]])\n",
    "    print(f'''\n",
    "===\n",
    "{query}\n",
    "\n",
    "{stat_string}\n",
    "    ''')"
   ]
  },
  {
   "cell_type": "markdown",
   "metadata": {},
   "source": [
    "# Preprocessing"
   ]
  },
  {
   "cell_type": "markdown",
   "metadata": {},
   "source": [
    "Raw data"
   ]
  },
  {
   "cell_type": "code",
   "execution_count": 14,
   "metadata": {
    "ExecuteTime": {
     "end_time": "2020-09-14T09:18:26.748246Z",
     "start_time": "2020-09-14T09:18:26.742630Z"
    }
   },
   "outputs": [
    {
     "data": {
      "text/plain": [
       "'This Administrative Assistant position is responsible for performing a variety of clerical and administrative support functions in the areas of communications, data entry and retrieval, typing, filing, copying, and coordination of related administrative activities. \\\\r\\\\n\\\\r\\\\nJOB REQUIREMENTS:\\\\r\\\\nAttention to detail\\\\r\\\\nAbility to work in a fast paced environment\\\\r\\\\nInvoicing\\\\r\\\\nProficient in Word, Excel and Outlook\\\\r\\\\nOther Administrative responsibilities as needed.\\\\r\\\\n\\\\r\\\\nQUALIFICATIONS:\\\\r\\\\nHigh School Diploma\\\\r\\\\nAdministrative Assistant Experience\\\\r\\\\n1-2 Years work experience\\\\r\\\\nWorking knowledge of all basic office machines (fax, copier, 10key, etc.)\\\\r\\\\nStrong verbal and written communication skills\\\\r\\\\nStrong work ethic.'"
      ]
     },
     "execution_count": 14,
     "metadata": {},
     "output_type": "execute_result"
    }
   ],
   "source": [
    "dataset_df['Description'][0]"
   ]
  },
  {
   "cell_type": "markdown",
   "metadata": {},
   "source": [
    "Remove tags and stop words"
   ]
  },
  {
   "cell_type": "code",
   "execution_count": 15,
   "metadata": {
    "ExecuteTime": {
     "end_time": "2020-09-14T09:18:29.503231Z",
     "start_time": "2020-09-14T09:18:29.079463Z"
    }
   },
   "outputs": [
    {
     "data": {
      "text/plain": [
       "['administrative',\n",
       " 'assistant',\n",
       " 'position',\n",
       " 'responsible',\n",
       " 'perform',\n",
       " 'variety',\n",
       " 'clerical',\n",
       " 'administrative',\n",
       " 'support',\n",
       " 'function',\n",
       " 'area',\n",
       " 'communication',\n",
       " 'datum',\n",
       " 'entry',\n",
       " 'retrieval',\n",
       " 'type',\n",
       " 'file',\n",
       " 'copy',\n",
       " 'coordination',\n",
       " 'relate',\n",
       " 'administrative',\n",
       " 'activity',\n",
       " 'njob',\n",
       " 'requirement',\n",
       " 'nattention',\n",
       " 'detail',\n",
       " 'nability',\n",
       " 'work',\n",
       " 'fast',\n",
       " 'pace',\n",
       " 'environment',\n",
       " 'ninvoicing',\n",
       " 'nproficient',\n",
       " 'word',\n",
       " 'excel',\n",
       " 'outlook',\n",
       " 'nother',\n",
       " 'administrative',\n",
       " 'responsibility',\n",
       " 'need',\n",
       " 'nqualifications',\n",
       " 'nhigh',\n",
       " 'school',\n",
       " 'diploma',\n",
       " 'nadministrative',\n",
       " 'assistant',\n",
       " 'experience',\n",
       " 'year',\n",
       " 'work',\n",
       " 'experience',\n",
       " 'nworking',\n",
       " 'knowledge',\n",
       " 'basic',\n",
       " 'office',\n",
       " 'machine',\n",
       " 'fax',\n",
       " 'copier',\n",
       " 'key',\n",
       " 'etc',\n",
       " 'nstrong',\n",
       " 'verbal',\n",
       " 'write',\n",
       " 'communication',\n",
       " 'skill',\n",
       " 'nstrong',\n",
       " 'work',\n",
       " 'ethic']"
      ]
     },
     "execution_count": 15,
     "metadata": {},
     "output_type": "execute_result"
    }
   ],
   "source": [
    "SpacyTokenizer().tokenizer(dataset_df['Description'][0])"
   ]
  },
  {
   "cell_type": "markdown",
   "metadata": {},
   "source": [
    "# Classifier"
   ]
  },
  {
   "cell_type": "code",
   "execution_count": 16,
   "metadata": {},
   "outputs": [],
   "source": [
    "def split_train_test(dataset_df, y, test_size=0.2):\n",
    "    # remove types occur only ones\n",
    "    temp_df = dataset_df[y.isin(y.value_counts()[y.value_counts()>1].index)]\n",
    "    return train_test_split(temp_df, stratify=y, test_size=test_size, random_state=42)"
   ]
  },
  {
   "cell_type": "code",
   "execution_count": 17,
   "metadata": {
    "ExecuteTime": {
     "end_time": "2020-09-14T08:25:08.347653Z",
     "start_time": "2020-09-14T08:25:08.007088Z"
    }
   },
   "outputs": [
    {
     "data": {
      "image/png": "[encoded data removed]",
      "text/plain": [
       "<Figure size 1080x720 with 1 Axes>"
      ]
     },
     "metadata": {
      "needs_background": "light"
     },
     "output_type": "display_data"
    }
   ],
   "source": [
    "train, test = split_train_test(dataset_df, dataset_df['Query'], test_size=0.2)\n",
    "split_df = pd.concat([train['Query'].value_counts(), test['Query'].value_counts()], axis=1)\n",
    "split_df.columns = ['train', 'test']\n",
    "\n",
    "split_df.plot(kind='bar', stacked=True)\n",
    "plt.title('Job descriptions per job category')\n",
    "plt.show()"
   ]
  },
  {
   "cell_type": "code",
   "execution_count": 18,
   "metadata": {
    "ExecuteTime": {
     "end_time": "2020-09-10T16:57:46.216708Z",
     "start_time": "2020-09-10T16:57:46.207465Z"
    }
   },
   "outputs": [
    {
     "name": "stdout",
     "output_type": "stream",
     "text": [
      "train/test: 25555/6389\n"
     ]
    },
    {
     "data": {
      "text/html": [
       "<div>\n",
       "<style scoped>\n",
       "    .dataframe tbody tr th:only-of-type {\n",
       "        vertical-align: middle;\n",
       "    }\n",
       "\n",
       "    .dataframe tbody tr th {\n",
       "        vertical-align: top;\n",
       "    }\n",
       "\n",
       "    .dataframe thead th {\n",
       "        text-align: right;\n",
       "    }\n",
       "</style>\n",
       "<table border=\"1\" class=\"dataframe\">\n",
       "  <thead>\n",
       "    <tr style=\"text-align: right;\">\n",
       "      <th></th>\n",
       "      <th>train</th>\n",
       "      <th>test</th>\n",
       "    </tr>\n",
       "  </thead>\n",
       "  <tbody>\n",
       "    <tr>\n",
       "      <th>Administrative Assistant</th>\n",
       "      <td>3213</td>\n",
       "      <td>804</td>\n",
       "    </tr>\n",
       "    <tr>\n",
       "      <th>Customer Service Representative</th>\n",
       "      <td>2635</td>\n",
       "      <td>659</td>\n",
       "    </tr>\n",
       "    <tr>\n",
       "      <th>Staff Accountant</th>\n",
       "      <td>2194</td>\n",
       "      <td>549</td>\n",
       "    </tr>\n",
       "    <tr>\n",
       "      <th>Project Manager</th>\n",
       "      <td>2097</td>\n",
       "      <td>524</td>\n",
       "    </tr>\n",
       "    <tr>\n",
       "      <th>Business Analyst</th>\n",
       "      <td>1841</td>\n",
       "      <td>461</td>\n",
       "    </tr>\n",
       "    <tr>\n",
       "      <th>Senior Accountant</th>\n",
       "      <td>1699</td>\n",
       "      <td>425</td>\n",
       "    </tr>\n",
       "    <tr>\n",
       "      <th>Financial Analyst</th>\n",
       "      <td>1329</td>\n",
       "      <td>332</td>\n",
       "    </tr>\n",
       "    <tr>\n",
       "      <th>Maintenance Technician</th>\n",
       "      <td>1274</td>\n",
       "      <td>319</td>\n",
       "    </tr>\n",
       "    <tr>\n",
       "      <th>Sales Representative</th>\n",
       "      <td>1237</td>\n",
       "      <td>309</td>\n",
       "    </tr>\n",
       "    <tr>\n",
       "      <th>Executive Assistant</th>\n",
       "      <td>1209</td>\n",
       "      <td>302</td>\n",
       "    </tr>\n",
       "    <tr>\n",
       "      <th>Receptionist</th>\n",
       "      <td>1142</td>\n",
       "      <td>285</td>\n",
       "    </tr>\n",
       "    <tr>\n",
       "      <th>Java Developer</th>\n",
       "      <td>1046</td>\n",
       "      <td>261</td>\n",
       "    </tr>\n",
       "    <tr>\n",
       "      <th>Account Executive</th>\n",
       "      <td>866</td>\n",
       "      <td>216</td>\n",
       "    </tr>\n",
       "    <tr>\n",
       "      <th>Restaurant Manager</th>\n",
       "      <td>794</td>\n",
       "      <td>199</td>\n",
       "    </tr>\n",
       "    <tr>\n",
       "      <th>Store Manager</th>\n",
       "      <td>770</td>\n",
       "      <td>193</td>\n",
       "    </tr>\n",
       "    <tr>\n",
       "      <th>Inside Sales Representative</th>\n",
       "      <td>718</td>\n",
       "      <td>179</td>\n",
       "    </tr>\n",
       "    <tr>\n",
       "      <th>Physical Therapist</th>\n",
       "      <td>634</td>\n",
       "      <td>158</td>\n",
       "    </tr>\n",
       "    <tr>\n",
       "      <th>Retail Sales Associate</th>\n",
       "      <td>438</td>\n",
       "      <td>110</td>\n",
       "    </tr>\n",
       "    <tr>\n",
       "      <th>Account Representative</th>\n",
       "      <td>156</td>\n",
       "      <td>39</td>\n",
       "    </tr>\n",
       "    <tr>\n",
       "      <th>Cashier</th>\n",
       "      <td>148</td>\n",
       "      <td>37</td>\n",
       "    </tr>\n",
       "    <tr>\n",
       "      <th>Retail Wireless Sales Consultant</th>\n",
       "      <td>61</td>\n",
       "      <td>15</td>\n",
       "    </tr>\n",
       "    <tr>\n",
       "      <th>Sales Management Trainee</th>\n",
       "      <td>54</td>\n",
       "      <td>13</td>\n",
       "    </tr>\n",
       "  </tbody>\n",
       "</table>\n",
       "</div>"
      ],
      "text/plain": [
       "                                  train  test\n",
       "Administrative Assistant           3213   804\n",
       "Customer Service Representative    2635   659\n",
       "Staff Accountant                   2194   549\n",
       "Project Manager                    2097   524\n",
       "Business Analyst                   1841   461\n",
       "Senior Accountant                  1699   425\n",
       "Financial Analyst                  1329   332\n",
       "Maintenance Technician             1274   319\n",
       "Sales Representative               1237   309\n",
       "Executive Assistant                1209   302\n",
       "Receptionist                       1142   285\n",
       "Java Developer                     1046   261\n",
       "Account Executive                   866   216\n",
       "Restaurant Manager                  794   199\n",
       "Store Manager                       770   193\n",
       "Inside Sales Representative         718   179\n",
       "Physical Therapist                  634   158\n",
       "Retail Sales Associate              438   110\n",
       "Account Representative              156    39\n",
       "Cashier                             148    37\n",
       "Retail Wireless Sales Consultant     61    15\n",
       "Sales Management Trainee             54    13"
      ]
     },
     "execution_count": 18,
     "metadata": {},
     "output_type": "execute_result"
    }
   ],
   "source": [
    "print(f\"train/test: {split_df['train'].sum()}/{split_df['test'].sum()}\")\n",
    "split_df"
   ]
  },
  {
   "cell_type": "markdown",
   "metadata": {},
   "source": [
    "## Naive Bayes classifier"
   ]
  },
  {
   "cell_type": "code",
   "execution_count": 19,
   "metadata": {
    "ExecuteTime": {
     "end_time": "2020-09-14T06:18:35.941571Z",
     "start_time": "2020-09-14T06:14:31.187869Z"
    }
   },
   "outputs": [
    {
     "name": "stdout",
     "output_type": "stream",
     "text": [
      "Fitting 2 folds for each of 2 candidates, totalling 4 fits\n"
     ]
    },
    {
     "name": "stderr",
     "output_type": "stream",
     "text": [
      "[Parallel(n_jobs=2)]: Using backend LokyBackend with 2 concurrent workers.\n",
      "[Parallel(n_jobs=2)]: Done   1 tasks      | elapsed:  5.2min\n",
      "[Parallel(n_jobs=2)]: Done   2 out of   4 | elapsed:  5.3min remaining:  5.3min\n",
      "[Parallel(n_jobs=2)]: Done   4 out of   4 | elapsed: 10.0min remaining:    0.0s\n",
      "[Parallel(n_jobs=2)]: Done   4 out of   4 | elapsed: 10.0min finished\n"
     ]
    },
    {
     "name": "stdout",
     "output_type": "stream",
     "text": [
      "[('tfidf', TfidfVectorizer(max_features=2000, ngram_range=(1, 2),\n",
      "                tokenizer=<bound method SpacyTokenizer.tokenizer of <__main__.SpacyTokenizer object at 0x7fc36792db90>>)), ('clf', MultinomialNB(alpha=0.001))]\n",
      "                                  precision    recall  f1-score   support\n",
      "\n",
      "               Account Executive       0.78      0.79      0.79       216\n",
      "          Account Representative       0.83      0.26      0.39        39\n",
      "        Administrative Assistant       0.79      0.87      0.83       804\n",
      "                Business Analyst       0.91      0.74      0.82       461\n",
      "                         Cashier       0.89      0.65      0.75        37\n",
      " Customer Service Representative       0.82      0.77      0.80       659\n",
      "             Executive Assistant       0.84      0.69      0.76       302\n",
      "               Financial Analyst       0.77      0.88      0.82       332\n",
      "     Inside Sales Representative       0.76      0.47      0.58       179\n",
      "                  Java Developer       0.76      0.89      0.82       261\n",
      "          Maintenance Technician       0.92      0.96      0.94       319\n",
      "              Physical Therapist       0.94      1.00      0.97       158\n",
      "                 Project Manager       0.92      0.85      0.88       524\n",
      "                    Receptionist       0.94      0.77      0.85       285\n",
      "              Restaurant Manager       0.96      0.97      0.97       199\n",
      "          Retail Sales Associate       0.99      0.85      0.92       110\n",
      "Retail Wireless Sales Consultant       1.00      1.00      1.00        15\n",
      "        Sales Management Trainee       1.00      0.77      0.87        13\n",
      "            Sales Representative       0.56      0.90      0.69       309\n",
      "               Senior Accountant       0.79      0.83      0.81       425\n",
      "                Staff Accountant       0.87      0.86      0.87       549\n",
      "                   Store Manager       0.71      0.73      0.72       193\n",
      "\n",
      "                        accuracy                           0.82      6389\n",
      "                       macro avg       0.85      0.80      0.81      6389\n",
      "                    weighted avg       0.83      0.82      0.82      6389\n",
      "\n"
     ]
    }
   ],
   "source": [
    "pipeline = Pipeline([\n",
    "    ('tfidf', TfidfVectorizer(tokenizer=SpacyTokenizer().tokenizer, max_features=2000)),\n",
    "    ('clf', MultinomialNB(fit_prior=True, class_prior=None)),\n",
    "])\n",
    "\n",
    "parameters = {\n",
    "    'tfidf__ngram_range': [(1, 2)],\n",
    "    'clf__alpha': (1e-2, 1e-3)\n",
    "}\n",
    "\n",
    "nb_pipeline = tune_pipeline(pipeline, parameters, train['Description'], train['Query'], n_splits=5)\n",
    "print(nb_pipeline.steps)\n",
    "joblib.dump(nb_pipeline, './models/nb_pipeline.joblib')\n",
    "\n",
    "pred = nb_pipeline.predict(test['Description'])\n",
    "print(classification_report(test['Query'], pred))"
   ]
  },
  {
   "cell_type": "markdown",
   "metadata": {},
   "source": [
    "## LogisticRegression"
   ]
  },
  {
   "cell_type": "code",
   "execution_count": 20,
   "metadata": {
    "ExecuteTime": {
     "end_time": "2020-09-14T06:32:08.215426Z",
     "start_time": "2020-09-14T06:22:12.704871Z"
    }
   },
   "outputs": [
    {
     "name": "stdout",
     "output_type": "stream",
     "text": [
      "Fitting 2 folds for each of 6 candidates, totalling 12 fits\n"
     ]
    },
    {
     "name": "stderr",
     "output_type": "stream",
     "text": [
      "[Parallel(n_jobs=2)]: Using backend LokyBackend with 2 concurrent workers.\n",
      "[Parallel(n_jobs=2)]: Done   1 tasks      | elapsed:  5.3min\n",
      "[Parallel(n_jobs=2)]: Done   4 tasks      | elapsed: 10.8min\n",
      "[Parallel(n_jobs=2)]: Done   9 tasks      | elapsed: 26.1min\n",
      "[Parallel(n_jobs=2)]: Done  12 out of  12 | elapsed: 31.6min finished\n"
     ]
    },
    {
     "name": "stdout",
     "output_type": "stream",
     "text": [
      "[('tfidf', TfidfVectorizer(max_features=2000, ngram_range=(1, 2),\n",
      "                tokenizer=<bound method SpacyTokenizer.tokenizer of <__main__.SpacyTokenizer object at 0x7fc2d4734ed0>>)), ('clf', LogisticRegression(C=1, solver='sag'))]\n",
      "                                  precision    recall  f1-score   support\n",
      "\n",
      "               Account Executive       0.86      0.89      0.88       216\n",
      "          Account Representative       0.91      0.26      0.40        39\n",
      "        Administrative Assistant       0.87      0.92      0.90       804\n",
      "                Business Analyst       0.94      0.93      0.93       461\n",
      "                         Cashier       1.00      0.68      0.81        37\n",
      " Customer Service Representative       0.89      0.96      0.92       659\n",
      "             Executive Assistant       0.89      0.82      0.85       302\n",
      "               Financial Analyst       0.94      0.93      0.94       332\n",
      "     Inside Sales Representative       0.83      0.73      0.78       179\n",
      "                  Java Developer       0.99      0.96      0.97       261\n",
      "          Maintenance Technician       0.98      0.98      0.98       319\n",
      "              Physical Therapist       0.97      0.97      0.97       158\n",
      "                 Project Manager       0.95      0.95      0.95       524\n",
      "                    Receptionist       0.94      0.92      0.93       285\n",
      "              Restaurant Manager       0.98      0.98      0.98       199\n",
      "          Retail Sales Associate       0.99      0.91      0.95       110\n",
      "Retail Wireless Sales Consultant       1.00      1.00      1.00        15\n",
      "        Sales Management Trainee       1.00      0.77      0.87        13\n",
      "            Sales Representative       0.79      0.86      0.83       309\n",
      "               Senior Accountant       0.92      0.89      0.91       425\n",
      "                Staff Accountant       0.92      0.94      0.93       549\n",
      "                   Store Manager       0.97      0.93      0.95       193\n",
      "\n",
      "                        accuracy                           0.92      6389\n",
      "                       macro avg       0.93      0.87      0.89      6389\n",
      "                    weighted avg       0.92      0.92      0.92      6389\n",
      "\n"
     ]
    }
   ],
   "source": [
    "pipeline = Pipeline([\n",
    "    ('tfidf', TfidfVectorizer(tokenizer=SpacyTokenizer().tokenizer, max_features=2000)),\n",
    "    ('clf', LogisticRegression(solver='sag')),\n",
    "])\n",
    "parameters = {\n",
    "    'tfidf__ngram_range': [(1, 2)],\n",
    "    \"clf__C\": [0.01, 0.1, 1],\n",
    "    \"clf__class_weight\": ['balanced', None],\n",
    "}\n",
    "\n",
    "logistic_regression_pipeline = tune_pipeline(pipeline, parameters, train['Description'], train['Query'], n_splits=5)\n",
    "print(logistic_regression_pipeline.steps)\n",
    "joblib.dump(logistic_regression_pipeline, './models/logistic_regression_pipeline.joblib')\n",
    "\n",
    "pred = logistic_regression_pipeline.predict(test['Description'])\n",
    "print(classification_report(test['Query'], pred))"
   ]
  },
  {
   "cell_type": "markdown",
   "metadata": {},
   "source": [
    "## DecisionTreeClassifier"
   ]
  },
  {
   "cell_type": "code",
   "execution_count": 23,
   "metadata": {
    "ExecuteTime": {
     "end_time": "2020-09-14T06:41:34.585656Z",
     "start_time": "2020-09-14T06:33:45.267895Z"
    }
   },
   "outputs": [
    {
     "name": "stdout",
     "output_type": "stream",
     "text": [
      "Fitting 2 folds for each of 4 candidates, totalling 8 fits\n"
     ]
    },
    {
     "name": "stderr",
     "output_type": "stream",
     "text": [
      "[Parallel(n_jobs=-1)]: Using backend LokyBackend with 8 concurrent workers.\n",
      "[Parallel(n_jobs=-1)]: Done   2 out of   8 | elapsed: 12.0min remaining: 36.1min\n",
      "[Parallel(n_jobs=-1)]: Done   3 out of   8 | elapsed: 12.4min remaining: 20.6min\n",
      "[Parallel(n_jobs=-1)]: Done   4 out of   8 | elapsed: 12.4min remaining: 12.4min\n",
      "[Parallel(n_jobs=-1)]: Done   5 out of   8 | elapsed: 12.4min remaining:  7.5min\n",
      "[Parallel(n_jobs=-1)]: Done   6 out of   8 | elapsed: 12.7min remaining:  4.2min\n",
      "[Parallel(n_jobs=-1)]: Done   8 out of   8 | elapsed: 12.8min remaining:    0.0s\n",
      "[Parallel(n_jobs=-1)]: Done   8 out of   8 | elapsed: 12.8min finished\n"
     ]
    },
    {
     "name": "stdout",
     "output_type": "stream",
     "text": [
      "[('tfidf', TfidfVectorizer(max_features=2000, ngram_range=(1, 2),\n",
      "                tokenizer=<bound method SpacyTokenizer.tokenizer of <__main__.SpacyTokenizer object at 0x7fc2f4f28610>>)), ('clf', DecisionTreeClassifier())]\n",
      "                                  precision    recall  f1-score   support\n",
      "\n",
      "               Account Executive       0.80      0.81      0.81       216\n",
      "          Account Representative       0.72      0.54      0.62        39\n",
      "        Administrative Assistant       0.84      0.83      0.83       804\n",
      "                Business Analyst       0.87      0.84      0.86       461\n",
      "                         Cashier       0.57      0.65      0.61        37\n",
      " Customer Service Representative       0.88      0.91      0.89       659\n",
      "             Executive Assistant       0.78      0.77      0.77       302\n",
      "               Financial Analyst       0.89      0.85      0.87       332\n",
      "     Inside Sales Representative       0.70      0.73      0.72       179\n",
      "                  Java Developer       0.91      0.92      0.91       261\n",
      "          Maintenance Technician       0.97      0.95      0.96       319\n",
      "              Physical Therapist       1.00      0.97      0.99       158\n",
      "                 Project Manager       0.91      0.90      0.90       524\n",
      "                    Receptionist       0.84      0.86      0.85       285\n",
      "              Restaurant Manager       0.92      0.95      0.94       199\n",
      "          Retail Sales Associate       0.94      0.93      0.93       110\n",
      "Retail Wireless Sales Consultant       1.00      1.00      1.00        15\n",
      "        Sales Management Trainee       1.00      0.85      0.92        13\n",
      "            Sales Representative       0.76      0.81      0.78       309\n",
      "               Senior Accountant       0.84      0.87      0.85       425\n",
      "                Staff Accountant       0.89      0.87      0.88       549\n",
      "                   Store Manager       0.93      0.92      0.92       193\n",
      "\n",
      "                        accuracy                           0.86      6389\n",
      "                       macro avg       0.86      0.85      0.86      6389\n",
      "                    weighted avg       0.87      0.86      0.86      6389\n",
      "\n"
     ]
    }
   ],
   "source": [
    "pipeline = Pipeline([\n",
    "    ('tfidf', TfidfVectorizer(tokenizer=SpacyTokenizer().tokenizer, max_features=2000)),\n",
    "    ('clf', DecisionTreeClassifier()),\n",
    "])\n",
    "parameters = {\n",
    "    'tfidf__ngram_range': [(1, 2), (1, 3)],\n",
    "    \"clf__class_weight\": ['balanced', None],\n",
    "}\n",
    "\n",
    "decision_tree_pipeline = tune_pipeline(pipeline, parameters, train['Description'], train['Query'], n_splits=5)\n",
    "print(decision_tree_pipeline.steps)\n",
    "joblib.dump(decision_tree_pipeline, './models/decision_tree_pipeline.joblib')\n",
    "\n",
    "pred = decision_tree_pipeline.predict(test['Description'])\n",
    "print(classification_report(test['Query'], pred))"
   ]
  },
  {
   "cell_type": "markdown",
   "metadata": {},
   "source": [
    "## LinearSVC classifier"
   ]
  },
  {
   "cell_type": "code",
   "execution_count": 24,
   "metadata": {
    "ExecuteTime": {
     "end_time": "2020-09-14T06:50:55.381379Z",
     "start_time": "2020-09-14T06:41:47.251800Z"
    }
   },
   "outputs": [
    {
     "name": "stdout",
     "output_type": "stream",
     "text": [
      "Fitting 2 folds for each of 6 candidates, totalling 12 fits\n"
     ]
    },
    {
     "name": "stderr",
     "output_type": "stream",
     "text": [
      "[Parallel(n_jobs=-1)]: Using backend LokyBackend with 8 concurrent workers.\n",
      "[Parallel(n_jobs=-1)]: Done   1 tasks      | elapsed: 10.6min\n",
      "[Parallel(n_jobs=-1)]: Done   3 out of  12 | elapsed: 11.2min remaining: 33.7min\n",
      "[Parallel(n_jobs=-1)]: Done   5 out of  12 | elapsed: 11.6min remaining: 16.2min\n",
      "[Parallel(n_jobs=-1)]: Done   7 out of  12 | elapsed: 11.8min remaining:  8.4min\n",
      "[Parallel(n_jobs=-1)]: Done   9 out of  12 | elapsed: 17.7min remaining:  5.9min\n",
      "[Parallel(n_jobs=-1)]: Done  12 out of  12 | elapsed: 18.2min finished\n"
     ]
    },
    {
     "name": "stdout",
     "output_type": "stream",
     "text": [
      "[('tfidf', TfidfVectorizer(max_features=2000, ngram_range=(1, 2),\n",
      "                tokenizer=<bound method SpacyTokenizer.tokenizer of <__main__.SpacyTokenizer object at 0x7fc2d50bfbd0>>)), ('clf', LinearSVC(C=1, class_weight='balanced'))]\n",
      "                                  precision    recall  f1-score   support\n",
      "\n",
      "               Account Executive       0.88      0.93      0.90       216\n",
      "          Account Representative       0.62      0.64      0.63        39\n",
      "        Administrative Assistant       0.92      0.87      0.90       804\n",
      "                Business Analyst       0.94      0.93      0.94       461\n",
      "                         Cashier       0.72      0.78      0.75        37\n",
      " Customer Service Representative       0.93      0.93      0.93       659\n",
      "             Executive Assistant       0.83      0.87      0.85       302\n",
      "               Financial Analyst       0.92      0.95      0.93       332\n",
      "     Inside Sales Representative       0.77      0.83      0.80       179\n",
      "                  Java Developer       0.97      0.99      0.98       261\n",
      "          Maintenance Technician       0.98      0.99      0.99       319\n",
      "              Physical Therapist       0.97      0.98      0.97       158\n",
      "                 Project Manager       0.96      0.96      0.96       524\n",
      "                    Receptionist       0.91      0.94      0.93       285\n",
      "              Restaurant Manager       0.98      0.98      0.98       199\n",
      "          Retail Sales Associate       0.96      0.95      0.96       110\n",
      "Retail Wireless Sales Consultant       1.00      1.00      1.00        15\n",
      "        Sales Management Trainee       1.00      0.92      0.96        13\n",
      "            Sales Representative       0.83      0.84      0.84       309\n",
      "               Senior Accountant       0.91      0.90      0.90       425\n",
      "                Staff Accountant       0.94      0.92      0.93       549\n",
      "                   Store Manager       0.98      0.97      0.98       193\n",
      "\n",
      "                        accuracy                           0.92      6389\n",
      "                       macro avg       0.91      0.91      0.91      6389\n",
      "                    weighted avg       0.92      0.92      0.92      6389\n",
      "\n"
     ]
    }
   ],
   "source": [
    "pipeline = Pipeline([\n",
    "    ('tfidf', TfidfVectorizer(tokenizer=SpacyTokenizer().tokenizer, max_features=2000)),\n",
    "    ('clf', LinearSVC(multi_class='ovr'))\n",
    "])\n",
    "\n",
    "parameters = {\n",
    "    'tfidf__ngram_range': [(1, 2)],\n",
    "    \"clf__C\": [0.01, 0.1, 1],\n",
    "    \"clf__class_weight\": ['balanced', None],\n",
    "}\n",
    "\n",
    "linear_svc_pipeline = tune_pipeline(pipeline, parameters, train['Description'], train['Query'], n_splits=5)\n",
    "print(linear_svc_pipeline.steps)\n",
    "joblib.dump(linear_svc_pipeline, './models/linear_svc_pipeline.joblib')\n",
    "\n",
    "pred = linear_svc_pipeline.predict(test['Description'])\n",
    "print(classification_report(test['Query'], pred))"
   ]
  },
  {
   "cell_type": "markdown",
   "metadata": {},
   "source": [
    "# Test"
   ]
  },
  {
   "cell_type": "code",
   "execution_count": 25,
   "metadata": {
    "ExecuteTime": {
     "end_time": "2020-09-14T09:08:11.830604Z",
     "start_time": "2020-09-14T09:08:09.559704Z"
    }
   },
   "outputs": [],
   "source": [
    "classifier_pipeline = joblib.load('./models/linear_svc_pipeline.joblib')"
   ]
  },
  {
   "cell_type": "code",
   "execution_count": 26,
   "metadata": {
    "ExecuteTime": {
     "end_time": "2020-09-14T09:16:19.826527Z",
     "start_time": "2020-09-14T09:16:19.815122Z"
    }
   },
   "outputs": [
    {
     "name": "stdout",
     "output_type": "stream",
     "text": [
      "Category: Project Manager\n",
      "Description: <strong>Immediate opening for a Project Engineer!!</strong>\\r\\nAdecco Engineering and Technical, a division of the world leader in the recruitment of engineering and information technology professionals, has an immediate opening for an Project Manager on a direct hire opportunity with a leading company in Irvine, Ca. \\r\\n\\r\\n<strong> </strong>\\r\\n<strong>Qualifications:</strong>\\r\\n\\r\\n<li>B.S. Engineering required.\\r\\n</li>\\r\\n<li>Minimum 0-3 years engineering experience, preferably in a Medical Device or Bio-Pharm manufacturing environment\\r\\n</li>\\r\\n<li>Successful track record in project management and use of project management tools (i.e. MS Project) and team management techniques.\\r\\n</li>\\r\\n<li>Good understanding of quality systems and FDA regulations related to manufacturing.\\r\\n</li>\\r\\n<li>Experience with small batch and lot segregation processing preferred.\\r\\n</li>\\r\\n<li>Experience with human tissue based manufacturing preferred.\\r\\n</li>\\r\\n<li>Solidworks, Minitab, and Autocad experience strongly preferred.\\r\\n</li>\\r\\n<li>Experience with MS Word, MS Excel, MS Outlook, MS Project, and MS Vizio Required.\\r\\n</li>\\r\\n\\r\\nTo apply please send all word resumes to jason.concepcion@adeccona.com today!!\n"
     ]
    }
   ],
   "source": [
    "test_record = test.sample().iloc[0]\n",
    "print(f\"Category: {test_record['Query']}\")\n",
    "print(f\"Description: {test_record['Description']}\")"
   ]
  },
  {
   "cell_type": "code",
   "execution_count": 27,
   "metadata": {
    "ExecuteTime": {
     "end_time": "2020-09-14T09:16:37.333006Z",
     "start_time": "2020-09-14T09:16:37.322728Z"
    }
   },
   "outputs": [
    {
     "data": {
      "text/plain": [
       "array(['Project Manager'], dtype=object)"
      ]
     },
     "execution_count": 27,
     "metadata": {},
     "output_type": "execute_result"
    }
   ],
   "source": [
    "classifier_pipeline.predict([test_record['Description']])"
   ]
  }
 ],
 "metadata": {
  "kernelspec": {
   "display_name": "Python 3",
   "language": "python",
   "name": "python3"
  },
  "language_info": {
   "codemirror_mode": {
    "name": "ipython",
    "version": 3
   },
   "file_extension": ".py",
   "mimetype": "text/x-python",
   "name": "python",
   "nbconvert_exporter": "python",
   "pygments_lexer": "ipython3",
   "version": "3.7.7"
  },
  "toc": {
   "base_numbering": 1,
   "nav_menu": {},
   "number_sections": true,
   "sideBar": true,
   "skip_h1_title": false,
   "title_cell": "Table of Contents",
   "title_sidebar": "Contents",
   "toc_cell": false,
   "toc_position": {
    "height": "717.069px",
    "left": "0px",
    "top": "109.778px",
    "width": "259px"
   },
   "toc_section_display": true,
   "toc_window_display": true
  }
 },
 "nbformat": 4,
 "nbformat_minor": 4
}
